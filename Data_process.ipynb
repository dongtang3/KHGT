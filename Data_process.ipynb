{
 "nbformat": 4,
 "nbformat_minor": 0,
 "metadata": {
  "colab": {
   "provenance": []
  },
  "kernelspec": {
   "name": "python3",
   "display_name": "Python 3",
   "language": "python"
  },
  "language_info": {
   "name": "python"
  }
 },
 "cells": [
  {
   "cell_type": "code",
   "metadata": {
    "id": "nn5bNflTPBbQ",
    "ExecuteTime": {
     "end_time": "2024-08-11T14:06:14.376620Z",
     "start_time": "2024-08-11T14:06:03.418264Z"
    }
   },
   "source": [
    "import pandas as pd\n",
    "\n",
    "# Read the Excel file into a pandas DataFrame\n",
    "df = pd.read_excel('NFT.xlsx')\n"
   ],
   "outputs": [],
   "execution_count": 1
  },
  {
   "cell_type": "code",
   "source": [
    "df"
   ],
   "metadata": {
    "colab": {
     "base_uri": "https://localhost:8080/",
     "height": 1000
    },
    "id": "UyGC8Ng-PImj",
    "outputId": "67f39d9f-7704-4ae2-8d92-a947073ac1b3",
    "ExecuteTime": {
     "end_time": "2024-08-11T14:06:19.215313Z",
     "start_time": "2024-08-11T14:06:19.186522Z"
    }
   },
   "outputs": [
    {
     "data": {
      "text/plain": [
       "        idCryptoPunk  rarity_rank   tipus           skin  \\\n",
       "0                  0         2023  Female    Mid-skinned   \n",
       "1                  0         2023  Female    Mid-skinned   \n",
       "2                  0         2023  Female    Mid-skinned   \n",
       "3                  0         2023  Female    Mid-skinned   \n",
       "4                  0         2023  Female    Mid-skinned   \n",
       "...              ...          ...     ...            ...   \n",
       "105319          6809         1811    Male  Light-skinned   \n",
       "105320          6809         1811    Male  Light-skinned   \n",
       "105321          6809         1811    Male  Light-skinned   \n",
       "105322          6809         1811    Male  Light-skinned   \n",
       "105323          6809         1811    Male  Light-skinned   \n",
       "\n",
       "                                                   traits current_owner  \\\n",
       "0       Blonde Bob, Earring, Green Eye Shadow, Hidden ...      0xE08c32   \n",
       "1       Blonde Bob, Earring, Green Eye Shadow, Hidden ...      0xE08c32   \n",
       "2       Blonde Bob, Earring, Green Eye Shadow, Hidden ...      0xE08c32   \n",
       "3       Blonde Bob, Earring, Green Eye Shadow, Hidden ...      0xE08c32   \n",
       "4       Blonde Bob, Earring, Green Eye Shadow, Hidden ...      0xE08c32   \n",
       "...                                                   ...           ...   \n",
       "105319          Big Beard, Horned Rim Glasses, Peak Spike      0x00668b   \n",
       "105320          Big Beard, Horned Rim Glasses, Peak Spike      0x00668b   \n",
       "105321          Big Beard, Horned Rim Glasses, Peak Spike      0x00668b   \n",
       "105322          Big Beard, Horned Rim Glasses, Peak Spike      0x00668b   \n",
       "105323          Big Beard, Horned Rim Glasses, Peak Spike      0x00668b   \n",
       "\n",
       "       idPropietario  TypeTransaction      Owner Reciever  AmountETH  \\\n",
       "0           0xe73a1d    Bid Withdrawn   0xe73a1d        0      321.0   \n",
       "1           0xe73a1d              Bid   0xe73a1d        0      321.0   \n",
       "2           0x2e5e22    Bid Withdrawn   0x2e5e22        0      320.0   \n",
       "3           0x2e5e22              Bid   0x2e5e22        0      320.0   \n",
       "4           0x2e5e22    Bid Withdrawn   0x2e5e22        0      263.0   \n",
       "...              ...              ...        ...      ...        ...   \n",
       "105319             0  Offer Withdrawn          0        0        0.0   \n",
       "105320             0  Offer Withdrawn          0        0        0.0   \n",
       "105321             0          Offered          0        0       25.0   \n",
       "105322        evkort             Sold  TokenAng鈥   evkort        6.5   \n",
       "105323             0          Offered          0        0        6.5   \n",
       "\n",
       "        AmountDollar       Date  count  \n",
       "0          1260000.0 2021-09-04      3  \n",
       "1          1140000.0 2021-09-01      3  \n",
       "2          1110000.0 2021-09-01      3  \n",
       "3          1100000.0 2021-09-01      3  \n",
       "4           904481.0 2021-09-01      3  \n",
       "...              ...        ...    ...  \n",
       "105319           0.0 2020-09-16      3  \n",
       "105320           0.0 2020-09-16      3  \n",
       "105321        9172.0 2020-09-15      3  \n",
       "105322        2447.0 2020-09-15      3  \n",
       "105323        1366.0 2020-05-28      3  \n",
       "\n",
       "[105324 rows x 14 columns]"
      ],
      "text/html": [
       "<div>\n",
       "<style scoped>\n",
       "    .dataframe tbody tr th:only-of-type {\n",
       "        vertical-align: middle;\n",
       "    }\n",
       "\n",
       "    .dataframe tbody tr th {\n",
       "        vertical-align: top;\n",
       "    }\n",
       "\n",
       "    .dataframe thead th {\n",
       "        text-align: right;\n",
       "    }\n",
       "</style>\n",
       "<table border=\"1\" class=\"dataframe\">\n",
       "  <thead>\n",
       "    <tr style=\"text-align: right;\">\n",
       "      <th></th>\n",
       "      <th>idCryptoPunk</th>\n",
       "      <th>rarity_rank</th>\n",
       "      <th>tipus</th>\n",
       "      <th>skin</th>\n",
       "      <th>traits</th>\n",
       "      <th>current_owner</th>\n",
       "      <th>idPropietario</th>\n",
       "      <th>TypeTransaction</th>\n",
       "      <th>Owner</th>\n",
       "      <th>Reciever</th>\n",
       "      <th>AmountETH</th>\n",
       "      <th>AmountDollar</th>\n",
       "      <th>Date</th>\n",
       "      <th>count</th>\n",
       "    </tr>\n",
       "  </thead>\n",
       "  <tbody>\n",
       "    <tr>\n",
       "      <th>0</th>\n",
       "      <td>0</td>\n",
       "      <td>2023</td>\n",
       "      <td>Female</td>\n",
       "      <td>Mid-skinned</td>\n",
       "      <td>Blonde Bob, Earring, Green Eye Shadow, Hidden ...</td>\n",
       "      <td>0xE08c32</td>\n",
       "      <td>0xe73a1d</td>\n",
       "      <td>Bid Withdrawn</td>\n",
       "      <td>0xe73a1d</td>\n",
       "      <td>0</td>\n",
       "      <td>321.0</td>\n",
       "      <td>1260000.0</td>\n",
       "      <td>2021-09-04</td>\n",
       "      <td>3</td>\n",
       "    </tr>\n",
       "    <tr>\n",
       "      <th>1</th>\n",
       "      <td>0</td>\n",
       "      <td>2023</td>\n",
       "      <td>Female</td>\n",
       "      <td>Mid-skinned</td>\n",
       "      <td>Blonde Bob, Earring, Green Eye Shadow, Hidden ...</td>\n",
       "      <td>0xE08c32</td>\n",
       "      <td>0xe73a1d</td>\n",
       "      <td>Bid</td>\n",
       "      <td>0xe73a1d</td>\n",
       "      <td>0</td>\n",
       "      <td>321.0</td>\n",
       "      <td>1140000.0</td>\n",
       "      <td>2021-09-01</td>\n",
       "      <td>3</td>\n",
       "    </tr>\n",
       "    <tr>\n",
       "      <th>2</th>\n",
       "      <td>0</td>\n",
       "      <td>2023</td>\n",
       "      <td>Female</td>\n",
       "      <td>Mid-skinned</td>\n",
       "      <td>Blonde Bob, Earring, Green Eye Shadow, Hidden ...</td>\n",
       "      <td>0xE08c32</td>\n",
       "      <td>0x2e5e22</td>\n",
       "      <td>Bid Withdrawn</td>\n",
       "      <td>0x2e5e22</td>\n",
       "      <td>0</td>\n",
       "      <td>320.0</td>\n",
       "      <td>1110000.0</td>\n",
       "      <td>2021-09-01</td>\n",
       "      <td>3</td>\n",
       "    </tr>\n",
       "    <tr>\n",
       "      <th>3</th>\n",
       "      <td>0</td>\n",
       "      <td>2023</td>\n",
       "      <td>Female</td>\n",
       "      <td>Mid-skinned</td>\n",
       "      <td>Blonde Bob, Earring, Green Eye Shadow, Hidden ...</td>\n",
       "      <td>0xE08c32</td>\n",
       "      <td>0x2e5e22</td>\n",
       "      <td>Bid</td>\n",
       "      <td>0x2e5e22</td>\n",
       "      <td>0</td>\n",
       "      <td>320.0</td>\n",
       "      <td>1100000.0</td>\n",
       "      <td>2021-09-01</td>\n",
       "      <td>3</td>\n",
       "    </tr>\n",
       "    <tr>\n",
       "      <th>4</th>\n",
       "      <td>0</td>\n",
       "      <td>2023</td>\n",
       "      <td>Female</td>\n",
       "      <td>Mid-skinned</td>\n",
       "      <td>Blonde Bob, Earring, Green Eye Shadow, Hidden ...</td>\n",
       "      <td>0xE08c32</td>\n",
       "      <td>0x2e5e22</td>\n",
       "      <td>Bid Withdrawn</td>\n",
       "      <td>0x2e5e22</td>\n",
       "      <td>0</td>\n",
       "      <td>263.0</td>\n",
       "      <td>904481.0</td>\n",
       "      <td>2021-09-01</td>\n",
       "      <td>3</td>\n",
       "    </tr>\n",
       "    <tr>\n",
       "      <th>...</th>\n",
       "      <td>...</td>\n",
       "      <td>...</td>\n",
       "      <td>...</td>\n",
       "      <td>...</td>\n",
       "      <td>...</td>\n",
       "      <td>...</td>\n",
       "      <td>...</td>\n",
       "      <td>...</td>\n",
       "      <td>...</td>\n",
       "      <td>...</td>\n",
       "      <td>...</td>\n",
       "      <td>...</td>\n",
       "      <td>...</td>\n",
       "      <td>...</td>\n",
       "    </tr>\n",
       "    <tr>\n",
       "      <th>105319</th>\n",
       "      <td>6809</td>\n",
       "      <td>1811</td>\n",
       "      <td>Male</td>\n",
       "      <td>Light-skinned</td>\n",
       "      <td>Big Beard, Horned Rim Glasses, Peak Spike</td>\n",
       "      <td>0x00668b</td>\n",
       "      <td>0</td>\n",
       "      <td>Offer Withdrawn</td>\n",
       "      <td>0</td>\n",
       "      <td>0</td>\n",
       "      <td>0.0</td>\n",
       "      <td>0.0</td>\n",
       "      <td>2020-09-16</td>\n",
       "      <td>3</td>\n",
       "    </tr>\n",
       "    <tr>\n",
       "      <th>105320</th>\n",
       "      <td>6809</td>\n",
       "      <td>1811</td>\n",
       "      <td>Male</td>\n",
       "      <td>Light-skinned</td>\n",
       "      <td>Big Beard, Horned Rim Glasses, Peak Spike</td>\n",
       "      <td>0x00668b</td>\n",
       "      <td>0</td>\n",
       "      <td>Offer Withdrawn</td>\n",
       "      <td>0</td>\n",
       "      <td>0</td>\n",
       "      <td>0.0</td>\n",
       "      <td>0.0</td>\n",
       "      <td>2020-09-16</td>\n",
       "      <td>3</td>\n",
       "    </tr>\n",
       "    <tr>\n",
       "      <th>105321</th>\n",
       "      <td>6809</td>\n",
       "      <td>1811</td>\n",
       "      <td>Male</td>\n",
       "      <td>Light-skinned</td>\n",
       "      <td>Big Beard, Horned Rim Glasses, Peak Spike</td>\n",
       "      <td>0x00668b</td>\n",
       "      <td>0</td>\n",
       "      <td>Offered</td>\n",
       "      <td>0</td>\n",
       "      <td>0</td>\n",
       "      <td>25.0</td>\n",
       "      <td>9172.0</td>\n",
       "      <td>2020-09-15</td>\n",
       "      <td>3</td>\n",
       "    </tr>\n",
       "    <tr>\n",
       "      <th>105322</th>\n",
       "      <td>6809</td>\n",
       "      <td>1811</td>\n",
       "      <td>Male</td>\n",
       "      <td>Light-skinned</td>\n",
       "      <td>Big Beard, Horned Rim Glasses, Peak Spike</td>\n",
       "      <td>0x00668b</td>\n",
       "      <td>evkort</td>\n",
       "      <td>Sold</td>\n",
       "      <td>TokenAng鈥</td>\n",
       "      <td>evkort</td>\n",
       "      <td>6.5</td>\n",
       "      <td>2447.0</td>\n",
       "      <td>2020-09-15</td>\n",
       "      <td>3</td>\n",
       "    </tr>\n",
       "    <tr>\n",
       "      <th>105323</th>\n",
       "      <td>6809</td>\n",
       "      <td>1811</td>\n",
       "      <td>Male</td>\n",
       "      <td>Light-skinned</td>\n",
       "      <td>Big Beard, Horned Rim Glasses, Peak Spike</td>\n",
       "      <td>0x00668b</td>\n",
       "      <td>0</td>\n",
       "      <td>Offered</td>\n",
       "      <td>0</td>\n",
       "      <td>0</td>\n",
       "      <td>6.5</td>\n",
       "      <td>1366.0</td>\n",
       "      <td>2020-05-28</td>\n",
       "      <td>3</td>\n",
       "    </tr>\n",
       "  </tbody>\n",
       "</table>\n",
       "<p>105324 rows × 14 columns</p>\n",
       "</div>"
      ]
     },
     "execution_count": 2,
     "metadata": {},
     "output_type": "execute_result"
    }
   ],
   "execution_count": 2
  },
  {
   "cell_type": "code",
   "source": [
    "# Select all rows except the last one\n",
    "df = df.iloc[:-1]\n",
    "\n",
    "# df now contains all rows except the last one\n",
    "df"
   ],
   "metadata": {
    "colab": {
     "base_uri": "https://localhost:8080/",
     "height": 1000
    },
    "id": "GT8o6g0oYkRE",
    "outputId": "3ebe4a7f-50e9-4894-b41e-e97f751041d6",
    "ExecuteTime": {
     "end_time": "2024-08-11T14:06:20.298493Z",
     "start_time": "2024-08-11T14:06:20.281493Z"
    }
   },
   "outputs": [
    {
     "data": {
      "text/plain": [
       "        idCryptoPunk  rarity_rank   tipus           skin  \\\n",
       "0                  0         2023  Female    Mid-skinned   \n",
       "1                  0         2023  Female    Mid-skinned   \n",
       "2                  0         2023  Female    Mid-skinned   \n",
       "3                  0         2023  Female    Mid-skinned   \n",
       "4                  0         2023  Female    Mid-skinned   \n",
       "...              ...          ...     ...            ...   \n",
       "105318          6809         1811    Male  Light-skinned   \n",
       "105319          6809         1811    Male  Light-skinned   \n",
       "105320          6809         1811    Male  Light-skinned   \n",
       "105321          6809         1811    Male  Light-skinned   \n",
       "105322          6809         1811    Male  Light-skinned   \n",
       "\n",
       "                                                   traits current_owner  \\\n",
       "0       Blonde Bob, Earring, Green Eye Shadow, Hidden ...      0xE08c32   \n",
       "1       Blonde Bob, Earring, Green Eye Shadow, Hidden ...      0xE08c32   \n",
       "2       Blonde Bob, Earring, Green Eye Shadow, Hidden ...      0xE08c32   \n",
       "3       Blonde Bob, Earring, Green Eye Shadow, Hidden ...      0xE08c32   \n",
       "4       Blonde Bob, Earring, Green Eye Shadow, Hidden ...      0xE08c32   \n",
       "...                                                   ...           ...   \n",
       "105318          Big Beard, Horned Rim Glasses, Peak Spike      0x00668b   \n",
       "105319          Big Beard, Horned Rim Glasses, Peak Spike      0x00668b   \n",
       "105320          Big Beard, Horned Rim Glasses, Peak Spike      0x00668b   \n",
       "105321          Big Beard, Horned Rim Glasses, Peak Spike      0x00668b   \n",
       "105322          Big Beard, Horned Rim Glasses, Peak Spike      0x00668b   \n",
       "\n",
       "       idPropietario  TypeTransaction      Owner  Reciever  AmountETH  \\\n",
       "0           0xe73a1d    Bid Withdrawn   0xe73a1d         0      321.0   \n",
       "1           0xe73a1d              Bid   0xe73a1d         0      321.0   \n",
       "2           0x2e5e22    Bid Withdrawn   0x2e5e22         0      320.0   \n",
       "3           0x2e5e22              Bid   0x2e5e22         0      320.0   \n",
       "4           0x2e5e22    Bid Withdrawn   0x2e5e22         0      263.0   \n",
       "...              ...              ...        ...       ...        ...   \n",
       "105318      0x10d6d9         Transfer     evkort  0x10d6d9        0.0   \n",
       "105319             0  Offer Withdrawn          0         0        0.0   \n",
       "105320             0  Offer Withdrawn          0         0        0.0   \n",
       "105321             0          Offered          0         0       25.0   \n",
       "105322        evkort             Sold  TokenAng鈥    evkort        6.5   \n",
       "\n",
       "        AmountDollar       Date  count  \n",
       "0          1260000.0 2021-09-04      3  \n",
       "1          1140000.0 2021-09-01      3  \n",
       "2          1110000.0 2021-09-01      3  \n",
       "3          1100000.0 2021-09-01      3  \n",
       "4           904481.0 2021-09-01      3  \n",
       "...              ...        ...    ...  \n",
       "105318           0.0 2020-09-16      3  \n",
       "105319           0.0 2020-09-16      3  \n",
       "105320           0.0 2020-09-16      3  \n",
       "105321        9172.0 2020-09-15      3  \n",
       "105322        2447.0 2020-09-15      3  \n",
       "\n",
       "[105323 rows x 14 columns]"
      ],
      "text/html": [
       "<div>\n",
       "<style scoped>\n",
       "    .dataframe tbody tr th:only-of-type {\n",
       "        vertical-align: middle;\n",
       "    }\n",
       "\n",
       "    .dataframe tbody tr th {\n",
       "        vertical-align: top;\n",
       "    }\n",
       "\n",
       "    .dataframe thead th {\n",
       "        text-align: right;\n",
       "    }\n",
       "</style>\n",
       "<table border=\"1\" class=\"dataframe\">\n",
       "  <thead>\n",
       "    <tr style=\"text-align: right;\">\n",
       "      <th></th>\n",
       "      <th>idCryptoPunk</th>\n",
       "      <th>rarity_rank</th>\n",
       "      <th>tipus</th>\n",
       "      <th>skin</th>\n",
       "      <th>traits</th>\n",
       "      <th>current_owner</th>\n",
       "      <th>idPropietario</th>\n",
       "      <th>TypeTransaction</th>\n",
       "      <th>Owner</th>\n",
       "      <th>Reciever</th>\n",
       "      <th>AmountETH</th>\n",
       "      <th>AmountDollar</th>\n",
       "      <th>Date</th>\n",
       "      <th>count</th>\n",
       "    </tr>\n",
       "  </thead>\n",
       "  <tbody>\n",
       "    <tr>\n",
       "      <th>0</th>\n",
       "      <td>0</td>\n",
       "      <td>2023</td>\n",
       "      <td>Female</td>\n",
       "      <td>Mid-skinned</td>\n",
       "      <td>Blonde Bob, Earring, Green Eye Shadow, Hidden ...</td>\n",
       "      <td>0xE08c32</td>\n",
       "      <td>0xe73a1d</td>\n",
       "      <td>Bid Withdrawn</td>\n",
       "      <td>0xe73a1d</td>\n",
       "      <td>0</td>\n",
       "      <td>321.0</td>\n",
       "      <td>1260000.0</td>\n",
       "      <td>2021-09-04</td>\n",
       "      <td>3</td>\n",
       "    </tr>\n",
       "    <tr>\n",
       "      <th>1</th>\n",
       "      <td>0</td>\n",
       "      <td>2023</td>\n",
       "      <td>Female</td>\n",
       "      <td>Mid-skinned</td>\n",
       "      <td>Blonde Bob, Earring, Green Eye Shadow, Hidden ...</td>\n",
       "      <td>0xE08c32</td>\n",
       "      <td>0xe73a1d</td>\n",
       "      <td>Bid</td>\n",
       "      <td>0xe73a1d</td>\n",
       "      <td>0</td>\n",
       "      <td>321.0</td>\n",
       "      <td>1140000.0</td>\n",
       "      <td>2021-09-01</td>\n",
       "      <td>3</td>\n",
       "    </tr>\n",
       "    <tr>\n",
       "      <th>2</th>\n",
       "      <td>0</td>\n",
       "      <td>2023</td>\n",
       "      <td>Female</td>\n",
       "      <td>Mid-skinned</td>\n",
       "      <td>Blonde Bob, Earring, Green Eye Shadow, Hidden ...</td>\n",
       "      <td>0xE08c32</td>\n",
       "      <td>0x2e5e22</td>\n",
       "      <td>Bid Withdrawn</td>\n",
       "      <td>0x2e5e22</td>\n",
       "      <td>0</td>\n",
       "      <td>320.0</td>\n",
       "      <td>1110000.0</td>\n",
       "      <td>2021-09-01</td>\n",
       "      <td>3</td>\n",
       "    </tr>\n",
       "    <tr>\n",
       "      <th>3</th>\n",
       "      <td>0</td>\n",
       "      <td>2023</td>\n",
       "      <td>Female</td>\n",
       "      <td>Mid-skinned</td>\n",
       "      <td>Blonde Bob, Earring, Green Eye Shadow, Hidden ...</td>\n",
       "      <td>0xE08c32</td>\n",
       "      <td>0x2e5e22</td>\n",
       "      <td>Bid</td>\n",
       "      <td>0x2e5e22</td>\n",
       "      <td>0</td>\n",
       "      <td>320.0</td>\n",
       "      <td>1100000.0</td>\n",
       "      <td>2021-09-01</td>\n",
       "      <td>3</td>\n",
       "    </tr>\n",
       "    <tr>\n",
       "      <th>4</th>\n",
       "      <td>0</td>\n",
       "      <td>2023</td>\n",
       "      <td>Female</td>\n",
       "      <td>Mid-skinned</td>\n",
       "      <td>Blonde Bob, Earring, Green Eye Shadow, Hidden ...</td>\n",
       "      <td>0xE08c32</td>\n",
       "      <td>0x2e5e22</td>\n",
       "      <td>Bid Withdrawn</td>\n",
       "      <td>0x2e5e22</td>\n",
       "      <td>0</td>\n",
       "      <td>263.0</td>\n",
       "      <td>904481.0</td>\n",
       "      <td>2021-09-01</td>\n",
       "      <td>3</td>\n",
       "    </tr>\n",
       "    <tr>\n",
       "      <th>...</th>\n",
       "      <td>...</td>\n",
       "      <td>...</td>\n",
       "      <td>...</td>\n",
       "      <td>...</td>\n",
       "      <td>...</td>\n",
       "      <td>...</td>\n",
       "      <td>...</td>\n",
       "      <td>...</td>\n",
       "      <td>...</td>\n",
       "      <td>...</td>\n",
       "      <td>...</td>\n",
       "      <td>...</td>\n",
       "      <td>...</td>\n",
       "      <td>...</td>\n",
       "    </tr>\n",
       "    <tr>\n",
       "      <th>105318</th>\n",
       "      <td>6809</td>\n",
       "      <td>1811</td>\n",
       "      <td>Male</td>\n",
       "      <td>Light-skinned</td>\n",
       "      <td>Big Beard, Horned Rim Glasses, Peak Spike</td>\n",
       "      <td>0x00668b</td>\n",
       "      <td>0x10d6d9</td>\n",
       "      <td>Transfer</td>\n",
       "      <td>evkort</td>\n",
       "      <td>0x10d6d9</td>\n",
       "      <td>0.0</td>\n",
       "      <td>0.0</td>\n",
       "      <td>2020-09-16</td>\n",
       "      <td>3</td>\n",
       "    </tr>\n",
       "    <tr>\n",
       "      <th>105319</th>\n",
       "      <td>6809</td>\n",
       "      <td>1811</td>\n",
       "      <td>Male</td>\n",
       "      <td>Light-skinned</td>\n",
       "      <td>Big Beard, Horned Rim Glasses, Peak Spike</td>\n",
       "      <td>0x00668b</td>\n",
       "      <td>0</td>\n",
       "      <td>Offer Withdrawn</td>\n",
       "      <td>0</td>\n",
       "      <td>0</td>\n",
       "      <td>0.0</td>\n",
       "      <td>0.0</td>\n",
       "      <td>2020-09-16</td>\n",
       "      <td>3</td>\n",
       "    </tr>\n",
       "    <tr>\n",
       "      <th>105320</th>\n",
       "      <td>6809</td>\n",
       "      <td>1811</td>\n",
       "      <td>Male</td>\n",
       "      <td>Light-skinned</td>\n",
       "      <td>Big Beard, Horned Rim Glasses, Peak Spike</td>\n",
       "      <td>0x00668b</td>\n",
       "      <td>0</td>\n",
       "      <td>Offer Withdrawn</td>\n",
       "      <td>0</td>\n",
       "      <td>0</td>\n",
       "      <td>0.0</td>\n",
       "      <td>0.0</td>\n",
       "      <td>2020-09-16</td>\n",
       "      <td>3</td>\n",
       "    </tr>\n",
       "    <tr>\n",
       "      <th>105321</th>\n",
       "      <td>6809</td>\n",
       "      <td>1811</td>\n",
       "      <td>Male</td>\n",
       "      <td>Light-skinned</td>\n",
       "      <td>Big Beard, Horned Rim Glasses, Peak Spike</td>\n",
       "      <td>0x00668b</td>\n",
       "      <td>0</td>\n",
       "      <td>Offered</td>\n",
       "      <td>0</td>\n",
       "      <td>0</td>\n",
       "      <td>25.0</td>\n",
       "      <td>9172.0</td>\n",
       "      <td>2020-09-15</td>\n",
       "      <td>3</td>\n",
       "    </tr>\n",
       "    <tr>\n",
       "      <th>105322</th>\n",
       "      <td>6809</td>\n",
       "      <td>1811</td>\n",
       "      <td>Male</td>\n",
       "      <td>Light-skinned</td>\n",
       "      <td>Big Beard, Horned Rim Glasses, Peak Spike</td>\n",
       "      <td>0x00668b</td>\n",
       "      <td>evkort</td>\n",
       "      <td>Sold</td>\n",
       "      <td>TokenAng鈥</td>\n",
       "      <td>evkort</td>\n",
       "      <td>6.5</td>\n",
       "      <td>2447.0</td>\n",
       "      <td>2020-09-15</td>\n",
       "      <td>3</td>\n",
       "    </tr>\n",
       "  </tbody>\n",
       "</table>\n",
       "<p>105323 rows × 14 columns</p>\n",
       "</div>"
      ]
     },
     "execution_count": 3,
     "metadata": {},
     "output_type": "execute_result"
    }
   ],
   "execution_count": 3
  },
  {
   "cell_type": "code",
   "source": [
    "# Number each unique buyer\n",
    "df['user_id'] = df['idPropietario'].astype('category').cat.codes + 1\n",
    "\n",
    "print(\"Updated DataFrame with new buyer numbers:\")\n",
    "print(df)"
   ],
   "metadata": {
    "colab": {
     "base_uri": "https://localhost:8080/"
    },
    "id": "HWyu9J61Xkuf",
    "outputId": "7b5ff79a-31d7-4443-89cd-60973d913b55",
    "ExecuteTime": {
     "end_time": "2024-08-11T14:06:23.216986Z",
     "start_time": "2024-08-11T14:06:23.181274Z"
    }
   },
   "outputs": [
    {
     "name": "stdout",
     "output_type": "stream",
     "text": [
      "Updated DataFrame with new buyer numbers:\n",
      "        idCryptoPunk  rarity_rank   tipus           skin  \\\n",
      "0                  0         2023  Female    Mid-skinned   \n",
      "1                  0         2023  Female    Mid-skinned   \n",
      "2                  0         2023  Female    Mid-skinned   \n",
      "3                  0         2023  Female    Mid-skinned   \n",
      "4                  0         2023  Female    Mid-skinned   \n",
      "...              ...          ...     ...            ...   \n",
      "105318          6809         1811    Male  Light-skinned   \n",
      "105319          6809         1811    Male  Light-skinned   \n",
      "105320          6809         1811    Male  Light-skinned   \n",
      "105321          6809         1811    Male  Light-skinned   \n",
      "105322          6809         1811    Male  Light-skinned   \n",
      "\n",
      "                                                   traits current_owner  \\\n",
      "0       Blonde Bob, Earring, Green Eye Shadow, Hidden ...      0xE08c32   \n",
      "1       Blonde Bob, Earring, Green Eye Shadow, Hidden ...      0xE08c32   \n",
      "2       Blonde Bob, Earring, Green Eye Shadow, Hidden ...      0xE08c32   \n",
      "3       Blonde Bob, Earring, Green Eye Shadow, Hidden ...      0xE08c32   \n",
      "4       Blonde Bob, Earring, Green Eye Shadow, Hidden ...      0xE08c32   \n",
      "...                                                   ...           ...   \n",
      "105318          Big Beard, Horned Rim Glasses, Peak Spike      0x00668b   \n",
      "105319          Big Beard, Horned Rim Glasses, Peak Spike      0x00668b   \n",
      "105320          Big Beard, Horned Rim Glasses, Peak Spike      0x00668b   \n",
      "105321          Big Beard, Horned Rim Glasses, Peak Spike      0x00668b   \n",
      "105322          Big Beard, Horned Rim Glasses, Peak Spike      0x00668b   \n",
      "\n",
      "       idPropietario  TypeTransaction      Owner  Reciever  AmountETH  \\\n",
      "0           0xe73a1d    Bid Withdrawn   0xe73a1d         0      321.0   \n",
      "1           0xe73a1d              Bid   0xe73a1d         0      321.0   \n",
      "2           0x2e5e22    Bid Withdrawn   0x2e5e22         0      320.0   \n",
      "3           0x2e5e22              Bid   0x2e5e22         0      320.0   \n",
      "4           0x2e5e22    Bid Withdrawn   0x2e5e22         0      263.0   \n",
      "...              ...              ...        ...       ...        ...   \n",
      "105318      0x10d6d9         Transfer     evkort  0x10d6d9        0.0   \n",
      "105319             0  Offer Withdrawn          0         0        0.0   \n",
      "105320             0  Offer Withdrawn          0         0        0.0   \n",
      "105321             0          Offered          0         0       25.0   \n",
      "105322        evkort             Sold  TokenAng鈥    evkort        6.5   \n",
      "\n",
      "        AmountDollar       Date  count  user_id  \n",
      "0          1260000.0 2021-09-04      3     4534  \n",
      "1          1140000.0 2021-09-01      3     4534  \n",
      "2          1110000.0 2021-09-01      3      952  \n",
      "3          1100000.0 2021-09-01      3      952  \n",
      "4           904481.0 2021-09-01      3      952  \n",
      "...              ...        ...    ...      ...  \n",
      "105318           0.0 2020-09-16      3      378  \n",
      "105319           0.0 2020-09-16      3        1  \n",
      "105320           0.0 2020-09-16      3        1  \n",
      "105321        9172.0 2020-09-15      3        1  \n",
      "105322        2447.0 2020-09-15      3     5640  \n",
      "\n",
      "[105323 rows x 15 columns]\n"
     ]
    },
    {
     "name": "stderr",
     "output_type": "stream",
     "text": [
      "C:\\Users\\DT\\PycharmProjects\\cs61b\\.venv\\lib\\site-packages\\ipykernel_launcher.py:2: SettingWithCopyWarning: \n",
      "A value is trying to be set on a copy of a slice from a DataFrame.\n",
      "Try using .loc[row_indexer,col_indexer] = value instead\n",
      "\n",
      "See the caveats in the documentation: https://pandas.pydata.org/pandas-docs/stable/user_guide/indexing.html#returning-a-view-versus-a-copy\n",
      "  \n"
     ]
    }
   ],
   "execution_count": 4
  },
  {
   "cell_type": "code",
   "source": [
    "\n",
    "# Group the dataset by 'buyer' and count the number of transactions for each buyer\n",
    "buyer_transaction_counts = df.groupby('idPropietario').size().reset_index(name='num_transactions')\n",
    "# Add a new column 'buyer_id' to number each buyer\n",
    "buyer_transaction_counts['user_id'] = range(1, len(buyer_transaction_counts) + 1)\n",
    "\n",
    "# Count the number of unique buyers\n",
    "num_buyers = buyer_transaction_counts.shape[0]\n",
    "\n",
    "print(\"Number of unique buyers:\", num_buyers)\n",
    "print(\"Buyer-wise transaction counts:\")\n",
    "print(buyer_transaction_counts)\n"
   ],
   "metadata": {
    "colab": {
     "base_uri": "https://localhost:8080/"
    },
    "id": "G2MEI4MjPH6D",
    "outputId": "90f1fe2d-f49b-4f86-8265-484f519f1a43",
    "ExecuteTime": {
     "end_time": "2024-08-11T14:07:52.069706Z",
     "start_time": "2024-08-11T14:07:52.034332Z"
    }
   },
   "outputs": [
    {
     "name": "stdout",
     "output_type": "stream",
     "text": [
      "Number of unique buyers: 6416\n",
      "Buyer-wise transaction counts:\n",
      "     idPropietario  num_transactions  user_id\n",
      "0                0             46110        1\n",
      "1             7478               112        2\n",
      "2           223332                12        3\n",
      "3              007                 2        4\n",
      "4         0d1n.eth                 1        5\n",
      "...            ...               ...      ...\n",
      "6411     馃憫馃拵馃檶.e鈥                 7     6412\n",
      "6412     馃懆馃徎鈥嶐煂.鈥                 4     6413\n",
      "6413     馃枙馃枙馃枙.e鈥                 9     6414\n",
      "6414      馃馃懆鈥嶐煔?鈥                10     6415\n",
      "6415       馃馃馃懇鈥?鈥                 1     6416\n",
      "\n",
      "[6416 rows x 3 columns]\n"
     ]
    }
   ],
   "execution_count": 7
  },
  {
   "cell_type": "code",
   "source": [
    "\n",
    "# Group the dataset by 'TypeTransaction' and count the number of transactions for each type\n",
    "transaction_type_counts = df.groupby('TypeTransaction').size().reset_index(name='num_transactions')\n",
    "\n",
    "# Add a new column 'transaction_type_id' to number each type of transaction\n",
    "transaction_type_counts['transaction_type_id'] = range(1, len(transaction_type_counts) + 1)\n",
    "\n",
    "# Count the number of unique types of transactions\n",
    "num_transaction_types = transaction_type_counts.shape[0]\n",
    "\n",
    "print(\"Number of unique transaction types:\", num_transaction_types)\n",
    "print(\"Transaction type-wise transaction counts with transaction type IDs:\")\n",
    "print(transaction_type_counts)\n"
   ],
   "metadata": {
    "colab": {
     "base_uri": "https://localhost:8080/"
    },
    "id": "glf1jPPPQYTk",
    "outputId": "e0220115-3237-4874-a7b9-9bf53f572aca",
    "ExecuteTime": {
     "end_time": "2024-08-11T14:07:58.723060Z",
     "start_time": "2024-08-11T14:07:58.701882Z"
    }
   },
   "outputs": [
    {
     "name": "stdout",
     "output_type": "stream",
     "text": [
      "Number of unique transaction types: 9\n",
      "Transaction type-wise transaction counts with transaction type IDs:\n",
      "   TypeTransaction  num_transactions  transaction_type_id\n",
      "0         (Unwrap)              1617                    1\n",
      "1           (Wrap)              1792                    2\n",
      "2              Bid             17232                    3\n",
      "3    Bid Withdrawn             10340                    4\n",
      "4          Claimed              6809                    5\n",
      "5  Offer Withdrawn              6298                    6\n",
      "6          Offered             40286                    7\n",
      "7             Sold             12126                    8\n",
      "8         Transfer              8823                    9\n"
     ]
    }
   ],
   "execution_count": 8
  },
  {
   "cell_type": "markdown",
   "source": [
    "## sold"
   ],
   "metadata": {
    "id": "3EaDzJEnWxH3"
   }
  },
  {
   "cell_type": "code",
   "source": [
    "\n",
    "# Filter out transactions of type 'sold'\n",
    "filtered_df = df[df['TypeTransaction'] != 'Sold']\n",
    "\n",
    "# Group the filtered dataset by the combination of 'user_id' and 'token_id' and count the number of transactions\n",
    "transactions_count = filtered_df.groupby(['user_id', 'idCryptoPunk']).size().reset_index(name='num_transactions')\n",
    "\n",
    "print(\"Reorganized dataset:\")\n",
    "print(transactions_count)\n"
   ],
   "metadata": {
    "colab": {
     "base_uri": "https://localhost:8080/"
    },
    "id": "wUn7qulMWw3O",
    "outputId": "2274124a-68f2-4d57-cb23-9452d9fda6f5",
    "ExecuteTime": {
     "end_time": "2024-08-11T14:08:04.910269Z",
     "start_time": "2024-08-11T14:08:04.857024Z"
    }
   },
   "outputs": [
    {
     "name": "stdout",
     "output_type": "stream",
     "text": [
      "Reorganized dataset:\n",
      "       user_id  idCryptoPunk  num_transactions\n",
      "0            1             0                 3\n",
      "1            1             1                26\n",
      "2            1            14                 9\n",
      "3            1            53                26\n",
      "4            1            89                31\n",
      "...        ...           ...               ...\n",
      "36853     6414          1860                 1\n",
      "36854     6414          3768                 1\n",
      "36855     6415          4542                 2\n",
      "36856     6415          5295                 3\n",
      "36857     6415          6573                 2\n",
      "\n",
      "[36858 rows x 3 columns]\n"
     ]
    }
   ],
   "execution_count": 9
  },
  {
   "cell_type": "code",
   "source": [
    "from scipy.sparse import csr_matrix\n",
    "import pickle\n",
    "\n",
    "# Determine the shape of the sparse matrix\n",
    "num_users = transactions_count['user_id'].max() + 1\n",
    "num_tokens = transactions_count['idCryptoPunk'].max() + 1\n",
    "\n",
    "# Create the sparse matrix\n",
    "sparse_matrix = csr_matrix((transactions_count['num_transactions'], (transactions_count['user_id'], transactions_count['idCryptoPunk'])), shape=(num_users, num_tokens))\n",
    "\n",
    "print(\"Sparse matrix in CSR format:\")\n",
    "print(sparse_matrix)\n",
    "\n",
    "# Determine the file name\n",
    "file_name = \"sold.pkl\"\n",
    "\n",
    "# Save the CSR matrix as a .pkl file\n",
    "with open(file_name, 'wb') as f:\n",
    "    pickle.dump(sparse_matrix, f)\n",
    "\n",
    "print(f\"CSR matrix saved as '{file_name}'\")\n"
   ],
   "metadata": {
    "colab": {
     "base_uri": "https://localhost:8080/"
    },
    "id": "fvk_fmiIYNoM",
    "outputId": "58d220de-8e7a-47cd-842d-70f7fe92c278",
    "ExecuteTime": {
     "end_time": "2024-08-11T14:12:30.214649Z",
     "start_time": "2024-08-11T14:12:30.204061Z"
    }
   },
   "outputs": [
    {
     "name": "stdout",
     "output_type": "stream",
     "text": [
      "Sparse matrix in CSR format:\n",
      "  (1, 0)\t3\n",
      "  (1, 1)\t26\n",
      "  (1, 14)\t9\n",
      "  (1, 53)\t26\n",
      "  (1, 89)\t31\n",
      "  (1, 111)\t2\n",
      "  (1, 116)\t13\n",
      "  (1, 118)\t7\n",
      "  (1, 124)\t4\n",
      "  (1, 138)\t16\n",
      "  (1, 139)\t7\n",
      "  (1, 141)\t7\n",
      "  (1, 143)\t4\n",
      "  (1, 155)\t8\n",
      "  (1, 160)\t15\n",
      "  (1, 161)\t27\n",
      "  (1, 168)\t1\n",
      "  (1, 169)\t18\n",
      "  (1, 172)\t2\n",
      "  (1, 173)\t2\n",
      "  (1, 186)\t12\n",
      "  (1, 195)\t1\n",
      "  (1, 203)\t9\n",
      "  (1, 211)\t6\n",
      "  (1, 226)\t2\n",
      "  :\t:\n",
      "  (6401, 3682)\t3\n",
      "  (6401, 4372)\t2\n",
      "  (6401, 4596)\t2\n",
      "  (6401, 4711)\t1\n",
      "  (6401, 4866)\t2\n",
      "  (6401, 5039)\t2\n",
      "  (6401, 6441)\t2\n",
      "  (6401, 6706)\t1\n",
      "  (6402, 5781)\t1\n",
      "  (6403, 2824)\t2\n",
      "  (6405, 3318)\t2\n",
      "  (6406, 4326)\t2\n",
      "  (6407, 4841)\t1\n",
      "  (6409, 2317)\t1\n",
      "  (6411, 2835)\t1\n",
      "  (6411, 4197)\t1\n",
      "  (6412, 1321)\t1\n",
      "  (6412, 3569)\t2\n",
      "  (6414, 72)\t2\n",
      "  (6414, 290)\t2\n",
      "  (6414, 1860)\t1\n",
      "  (6414, 3768)\t1\n",
      "  (6415, 4542)\t2\n",
      "  (6415, 5295)\t3\n",
      "  (6415, 6573)\t2\n",
      "CSR matrix saved as 'sold.pkl'\n"
     ]
    }
   ],
   "execution_count": 12
  },
  {
   "cell_type": "code",
   "source": [
    "import pandas as pd\n",
    "from scipy.sparse import csr_matrix\n",
    "import pickle\n",
    "\n",
    "def process_and_save(df, transaction_type):\n",
    "    # Filter out transactions of the given type\n",
    "    filtered_df = df[df['TypeTransaction'] == transaction_type]\n",
    "\n",
    "    # Group the filtered dataset by the combination of 'user_id' and 'token_id' and count the number of transactions\n",
    "    transactions_count = filtered_df.groupby(['user_id', 'idCryptoPunk']).size().reset_index(name='num_transactions')\n",
    "\n",
    "    print(f\"Reorganized dataset for '{transaction_type}':\")\n",
    "    print(transactions_count)\n",
    "\n",
    "    # Determine the shape of the sparse matrix\n",
    "    num_users = transactions_count['user_id'].max() + 1\n",
    "    num_tokens = transactions_count['idCryptoPunk'].max() + 1\n",
    "\n",
    "    # Create the sparse matrix\n",
    "    sparse_matrix = csr_matrix((transactions_count['num_transactions'], (transactions_count['user_id'], transactions_count['idCryptoPunk'])), shape=(num_users, num_tokens))\n",
    "\n",
    "    print(f\"Sparse matrix in CSR format for '{transaction_type}':\")\n",
    "    print(sparse_matrix)\n",
    "\n",
    "    # Determine the file name\n",
    "    file_name = f\"{transaction_type.lower()}.pkl\"\n",
    "\n",
    "    # Save the CSR matrix as a .pkl file\n",
    "    with open(file_name, 'wb') as f:\n",
    "        pickle.dump(sparse_matrix, f)\n",
    "\n",
    "    print(f\"CSR matrix saved as '{file_name}'\")\n",
    "\n",
    "# Read the Excel file into a pandas DataFrame\n",
    "df = pd.read_excel('NFT.xlsx')\n",
    "df['user_id'] = df['idPropietario'].astype('category').cat.codes + 1\n",
    "\n",
    "# Apply the operation for each transaction type\n",
    "for transaction_type in ['Sold', 'Bid', 'Offer Withdrawn', 'Offered', 'Bid Withdrawn']:\n",
    "    process_and_save(df, transaction_type)\n"
   ],
   "metadata": {
    "colab": {
     "base_uri": "https://localhost:8080/"
    },
    "id": "UXkXlM-pZapn",
    "outputId": "d5d2cb65-612c-4363-ee40-06a83b5cddc7",
    "ExecuteTime": {
     "end_time": "2024-08-11T14:31:53.619835Z",
     "start_time": "2024-08-11T14:31:42.885285Z"
    }
   },
   "outputs": [
    {
     "name": "stdout",
     "output_type": "stream",
     "text": [
      "Reorganized dataset for 'Sold':\n",
      "       user_id  idCryptoPunk  num_transactions\n",
      "0            2          1071                 1\n",
      "1            2          1215                 1\n",
      "2            2          1244                 1\n",
      "3            2          1650                 1\n",
      "4            2          2043                 1\n",
      "...        ...           ...               ...\n",
      "12015     6414          3768                 1\n",
      "12016     6415          3334                 1\n",
      "12017     6415          4542                 1\n",
      "12018     6415          5295                 1\n",
      "12019     6416          3520                 1\n",
      "\n",
      "[12020 rows x 3 columns]\n",
      "Sparse matrix in CSR format for 'Sold':\n",
      "  (2, 1071)\t1\n",
      "  (2, 1215)\t1\n",
      "  (2, 1244)\t1\n",
      "  (2, 1650)\t1\n",
      "  (2, 2043)\t1\n",
      "  (2, 2154)\t1\n",
      "  (2, 2374)\t1\n",
      "  (2, 3268)\t1\n",
      "  (2, 3471)\t1\n",
      "  (2, 4660)\t1\n",
      "  (2, 4811)\t1\n",
      "  (2, 5179)\t1\n",
      "  (2, 5285)\t1\n",
      "  (2, 5544)\t1\n",
      "  (2, 5760)\t1\n",
      "  (2, 5920)\t1\n",
      "  (2, 6143)\t1\n",
      "  (2, 6749)\t1\n",
      "  (3, 1071)\t1\n",
      "  (3, 1812)\t1\n",
      "  (3, 2511)\t1\n",
      "  (3, 3420)\t1\n",
      "  (3, 3862)\t1\n",
      "  (3, 4216)\t1\n",
      "  (3, 6710)\t1\n",
      "  :\t:\n",
      "  (6406, 6248)\t1\n",
      "  (6407, 4841)\t1\n",
      "  (6408, 1857)\t1\n",
      "  (6410, 1585)\t1\n",
      "  (6410, 2317)\t1\n",
      "  (6410, 4079)\t1\n",
      "  (6410, 4399)\t1\n",
      "  (6410, 6648)\t1\n",
      "  (6411, 4197)\t1\n",
      "  (6411, 5077)\t1\n",
      "  (6412, 1321)\t1\n",
      "  (6412, 2632)\t1\n",
      "  (6412, 3569)\t1\n",
      "  (6412, 6312)\t1\n",
      "  (6413, 1966)\t1\n",
      "  (6413, 4794)\t1\n",
      "  (6413, 4945)\t1\n",
      "  (6413, 5881)\t1\n",
      "  (6414, 1860)\t1\n",
      "  (6414, 2158)\t1\n",
      "  (6414, 3768)\t1\n",
      "  (6415, 3334)\t1\n",
      "  (6415, 4542)\t1\n",
      "  (6415, 5295)\t1\n",
      "  (6416, 3520)\t1\n",
      "CSR matrix saved as 'sold.pkl'\n",
      "Reorganized dataset for 'Bid':\n",
      "       user_id  idCryptoPunk  num_transactions\n",
      "0            2          1036                 1\n",
      "1            2          1247                 1\n",
      "2            2          1318                 2\n",
      "3            2          1386                 1\n",
      "4            2          2043                 1\n",
      "...        ...           ...               ...\n",
      "14391     6414           290                 1\n",
      "14392     6414          3768                 1\n",
      "14393     6415          4542                 1\n",
      "14394     6415          5295                 2\n",
      "14395     6415          6573                 1\n",
      "\n",
      "[14396 rows x 3 columns]\n",
      "Sparse matrix in CSR format for 'Bid':\n",
      "  (2, 1036)\t1\n",
      "  (2, 1247)\t1\n",
      "  (2, 1318)\t2\n",
      "  (2, 1386)\t1\n",
      "  (2, 2043)\t1\n",
      "  (2, 2154)\t1\n",
      "  (2, 2227)\t1\n",
      "  (2, 2397)\t1\n",
      "  (2, 2611)\t1\n",
      "  (2, 2816)\t1\n",
      "  (2, 2904)\t1\n",
      "  (2, 3268)\t1\n",
      "  (2, 3355)\t1\n",
      "  (2, 3416)\t1\n",
      "  (2, 3471)\t2\n",
      "  (2, 3631)\t1\n",
      "  (2, 3845)\t1\n",
      "  (2, 3858)\t2\n",
      "  (2, 3981)\t1\n",
      "  (2, 4201)\t1\n",
      "  (2, 4255)\t1\n",
      "  (2, 4329)\t1\n",
      "  (2, 4486)\t1\n",
      "  (2, 4593)\t2\n",
      "  (2, 4605)\t1\n",
      "  :\t:\n",
      "  (6401, 1418)\t2\n",
      "  (6401, 1870)\t1\n",
      "  (6401, 2832)\t1\n",
      "  (6401, 3091)\t1\n",
      "  (6401, 3313)\t1\n",
      "  (6401, 3682)\t2\n",
      "  (6401, 4372)\t1\n",
      "  (6401, 4596)\t1\n",
      "  (6401, 4866)\t1\n",
      "  (6401, 5039)\t1\n",
      "  (6401, 6441)\t1\n",
      "  (6401, 6706)\t1\n",
      "  (6403, 2824)\t1\n",
      "  (6405, 3318)\t1\n",
      "  (6406, 4326)\t1\n",
      "  (6411, 2835)\t1\n",
      "  (6411, 4197)\t1\n",
      "  (6412, 1321)\t1\n",
      "  (6412, 3569)\t1\n",
      "  (6414, 72)\t1\n",
      "  (6414, 290)\t1\n",
      "  (6414, 3768)\t1\n",
      "  (6415, 4542)\t1\n",
      "  (6415, 5295)\t2\n",
      "  (6415, 6573)\t1\n",
      "CSR matrix saved as 'bid.pkl'\n",
      "Reorganized dataset for 'Offer Withdrawn':\n",
      "      user_id  idCryptoPunk  num_transactions\n",
      "0           1             1                 6\n",
      "1           1            14                 1\n",
      "2           1            53                 3\n",
      "3           1            89                 5\n",
      "4           1           111                 1\n",
      "...       ...           ...               ...\n",
      "2458        1          6802                 4\n",
      "2459        1          6803                 2\n",
      "2460        1          6807                 6\n",
      "2461        1          6808                10\n",
      "2462        1          6809                 4\n",
      "\n",
      "[2463 rows x 3 columns]\n",
      "Sparse matrix in CSR format for 'Offer Withdrawn':\n",
      "  (1, 1)\t6\n",
      "  (1, 14)\t1\n",
      "  (1, 53)\t3\n",
      "  (1, 89)\t5\n",
      "  (1, 111)\t1\n",
      "  (1, 116)\t4\n",
      "  (1, 138)\t2\n",
      "  (1, 155)\t2\n",
      "  (1, 160)\t4\n",
      "  (1, 161)\t10\n",
      "  (1, 169)\t2\n",
      "  (1, 172)\t1\n",
      "  (1, 186)\t1\n",
      "  (1, 203)\t2\n",
      "  (1, 211)\t1\n",
      "  (1, 226)\t1\n",
      "  (1, 234)\t2\n",
      "  (1, 235)\t1\n",
      "  (1, 237)\t1\n",
      "  (1, 239)\t1\n",
      "  (1, 240)\t6\n",
      "  (1, 242)\t5\n",
      "  (1, 246)\t4\n",
      "  (1, 252)\t4\n",
      "  (1, 257)\t1\n",
      "  :\t:\n",
      "  (1, 6752)\t3\n",
      "  (1, 6759)\t2\n",
      "  (1, 6762)\t6\n",
      "  (1, 6764)\t4\n",
      "  (1, 6765)\t1\n",
      "  (1, 6767)\t1\n",
      "  (1, 6771)\t7\n",
      "  (1, 6772)\t1\n",
      "  (1, 6775)\t2\n",
      "  (1, 6778)\t4\n",
      "  (1, 6779)\t1\n",
      "  (1, 6783)\t1\n",
      "  (1, 6784)\t5\n",
      "  (1, 6786)\t1\n",
      "  (1, 6788)\t3\n",
      "  (1, 6791)\t4\n",
      "  (1, 6792)\t1\n",
      "  (1, 6795)\t2\n",
      "  (1, 6797)\t3\n",
      "  (1, 6801)\t2\n",
      "  (1, 6802)\t4\n",
      "  (1, 6803)\t2\n",
      "  (1, 6807)\t6\n",
      "  (1, 6808)\t10\n",
      "  (1, 6809)\t4\n",
      "CSR matrix saved as 'offer withdrawn.pkl'\n",
      "Reorganized dataset for 'Offered':\n",
      "      user_id  idCryptoPunk  num_transactions\n",
      "0           1             0                 3\n",
      "1           1             1                20\n",
      "2           1            14                 8\n",
      "3           1            53                23\n",
      "4           1            89                26\n",
      "...       ...           ...               ...\n",
      "4868     6371          5841                 1\n",
      "4869     6371          6226                 1\n",
      "4870     6375          6372                 1\n",
      "4871     6380          4841                 1\n",
      "4872     6384          5867                 1\n",
      "\n",
      "[4873 rows x 3 columns]\n",
      "Sparse matrix in CSR format for 'Offered':\n",
      "  (1, 0)\t3\n",
      "  (1, 1)\t20\n",
      "  (1, 14)\t8\n",
      "  (1, 53)\t23\n",
      "  (1, 89)\t26\n",
      "  (1, 111)\t1\n",
      "  (1, 116)\t9\n",
      "  (1, 118)\t7\n",
      "  (1, 124)\t4\n",
      "  (1, 138)\t14\n",
      "  (1, 139)\t7\n",
      "  (1, 141)\t7\n",
      "  (1, 143)\t4\n",
      "  (1, 155)\t6\n",
      "  (1, 160)\t11\n",
      "  (1, 161)\t17\n",
      "  (1, 168)\t1\n",
      "  (1, 169)\t16\n",
      "  (1, 172)\t1\n",
      "  (1, 173)\t2\n",
      "  (1, 186)\t11\n",
      "  (1, 195)\t1\n",
      "  (1, 203)\t7\n",
      "  (1, 211)\t5\n",
      "  (1, 226)\t1\n",
      "  :\t:\n",
      "  (6083, 4819)\t1\n",
      "  (6100, 3755)\t1\n",
      "  (6128, 6167)\t1\n",
      "  (6144, 2762)\t1\n",
      "  (6176, 568)\t1\n",
      "  (6179, 2493)\t1\n",
      "  (6189, 2367)\t1\n",
      "  (6191, 1127)\t1\n",
      "  (6210, 4729)\t1\n",
      "  (6230, 3245)\t1\n",
      "  (6235, 2711)\t1\n",
      "  (6257, 3015)\t1\n",
      "  (6257, 5272)\t1\n",
      "  (6257, 6728)\t2\n",
      "  (6257, 6778)\t1\n",
      "  (6260, 2146)\t1\n",
      "  (6272, 6295)\t1\n",
      "  (6284, 5920)\t1\n",
      "  (6315, 447)\t1\n",
      "  (6337, 3744)\t1\n",
      "  (6371, 5841)\t1\n",
      "  (6371, 6226)\t1\n",
      "  (6375, 6372)\t1\n",
      "  (6380, 4841)\t1\n",
      "  (6384, 5867)\t1\n",
      "CSR matrix saved as 'offered.pkl'\n",
      "Reorganized dataset for 'Bid Withdrawn':\n",
      "      user_id  idCryptoPunk  num_transactions\n",
      "0           2          1036                 1\n",
      "1           2          1247                 1\n",
      "2           2          1318                 2\n",
      "3           2          1386                 1\n",
      "4           2          2227                 1\n",
      "...       ...           ...               ...\n",
      "8959     6414            72                 1\n",
      "8960     6414           290                 1\n",
      "8961     6415          4542                 1\n",
      "8962     6415          5295                 1\n",
      "8963     6415          6573                 1\n",
      "\n",
      "[8964 rows x 3 columns]\n",
      "Sparse matrix in CSR format for 'Bid Withdrawn':\n",
      "  (2, 1036)\t1\n",
      "  (2, 1247)\t1\n",
      "  (2, 1318)\t2\n",
      "  (2, 1386)\t1\n",
      "  (2, 2227)\t1\n",
      "  (2, 2397)\t1\n",
      "  (2, 2611)\t1\n",
      "  (2, 2816)\t1\n",
      "  (2, 2904)\t1\n",
      "  (2, 3355)\t1\n",
      "  (2, 3416)\t1\n",
      "  (2, 3471)\t1\n",
      "  (2, 3631)\t1\n",
      "  (2, 3845)\t1\n",
      "  (2, 3858)\t2\n",
      "  (2, 3981)\t1\n",
      "  (2, 4201)\t1\n",
      "  (2, 4255)\t1\n",
      "  (2, 4329)\t1\n",
      "  (2, 4486)\t1\n",
      "  (2, 4593)\t2\n",
      "  (2, 4605)\t1\n",
      "  (2, 4631)\t1\n",
      "  (2, 4748)\t1\n",
      "  (2, 4910)\t1\n",
      "  :\t:\n",
      "  (6395, 5301)\t1\n",
      "  (6395, 6124)\t1\n",
      "  (6395, 6355)\t1\n",
      "  (6396, 1054)\t1\n",
      "  (6400, 1753)\t1\n",
      "  (6400, 5718)\t1\n",
      "  (6401, 638)\t1\n",
      "  (6401, 1418)\t1\n",
      "  (6401, 2832)\t1\n",
      "  (6401, 3313)\t1\n",
      "  (6401, 3682)\t1\n",
      "  (6401, 4372)\t1\n",
      "  (6401, 4596)\t1\n",
      "  (6401, 4866)\t1\n",
      "  (6401, 5039)\t1\n",
      "  (6401, 6441)\t1\n",
      "  (6403, 2824)\t1\n",
      "  (6405, 3318)\t1\n",
      "  (6406, 4326)\t1\n",
      "  (6412, 3569)\t1\n",
      "  (6414, 72)\t1\n",
      "  (6414, 290)\t1\n",
      "  (6415, 4542)\t1\n",
      "  (6415, 5295)\t1\n",
      "  (6415, 6573)\t1\n",
      "CSR matrix saved as 'bid withdrawn.pkl'\n"
     ]
    }
   ],
   "execution_count": 13
  },
  {
   "cell_type": "code",
   "source": [
    "import pandas as pd\n",
    "from scipy.sparse import csr_matrix\n",
    "from scipy.sparse import save_npz\n",
    "\n",
    "# Assume 'df' is your DataFrame containing all transactions\n",
    "\n",
    "# Transaction types\n",
    "transaction_types = ['Sold', 'Bid', 'Offer Withdrawn', 'Offered', 'Bid Withdrawn']\n",
    "\n",
    "for transaction_type in transaction_types:\n",
    "    # Filter transactions by type\n",
    "    filtered_transactions = df[df['TypeTransaction'] == transaction_type]\n",
    "\n",
    "    # Group the filtered dataset by the combination of 'user_id' and 'idCryptoPunk' and count the number of transactions\n",
    "    transactions_count = filtered_transactions.groupby(['user_id', 'idCryptoPunk']).size().reset_index(name='num_transactions')\n",
    "\n",
    "    print(f\"Reorganized dataset for '{transaction_type}':\")\n",
    "    print(transactions_count)\n",
    "\n",
    "    # Determine the shape of the sparse matrix\n",
    "    num_users = transactions_count['user_id'].max() + 1\n",
    "    num_tokens = transactions_count['idCryptoPunk'].max() + 1\n",
    "\n",
    "    # Create the sparse matrix for the current transaction type\n",
    "    sparse_matrix = csr_matrix((transactions_count['num_transactions'], (transactions_count['user_id'], transactions_count['idCryptoPunk'])), shape=(num_users, num_tokens))\n",
    "\n",
    "    print(f\"Sparse matrix in CSR format for {transaction_type}:\")\n",
    "    print(sparse_matrix)\n",
    "\n",
    "    # Determine the file name based on transaction type\n",
    "    file_name = f\"{transaction_type.lower().replace(' ', '_')}.npz\"\n",
    "\n",
    "    # Save the CSR matrix\n",
    "    save_npz(file_name, sparse_matrix)\n",
    "\n",
    "    print(f\"CSR matrix for {transaction_type} saved as '{file_name}'\")\n"
   ],
   "metadata": {
    "colab": {
     "base_uri": "https://localhost:8080/"
    },
    "id": "XMM7sIsYftwg",
    "outputId": "19341701-1186-4bca-e690-d1d099fdd285",
    "ExecuteTime": {
     "end_time": "2024-08-11T14:01:52.877171Z",
     "start_time": "2024-08-11T14:01:52.864288Z"
    }
   },
   "outputs": [
    {
     "ename": "NameError",
     "evalue": "name 'df' is not defined",
     "output_type": "error",
     "traceback": [
      "\u001B[1;31m---------------------------------------------------------------------------\u001B[0m",
      "\u001B[1;31mNameError\u001B[0m                                 Traceback (most recent call last)",
      "\u001B[1;32m<ipython-input-212-d69e5653f84e>\u001B[0m in \u001B[0;36m<module>\u001B[1;34m\u001B[0m\n\u001B[0;32m     10\u001B[0m \u001B[1;32mfor\u001B[0m \u001B[0mtransaction_type\u001B[0m \u001B[1;32min\u001B[0m \u001B[0mtransaction_types\u001B[0m\u001B[1;33m:\u001B[0m\u001B[1;33m\u001B[0m\u001B[1;33m\u001B[0m\u001B[0m\n\u001B[0;32m     11\u001B[0m     \u001B[1;31m# Filter transactions by type\u001B[0m\u001B[1;33m\u001B[0m\u001B[1;33m\u001B[0m\u001B[1;33m\u001B[0m\u001B[0m\n\u001B[1;32m---> 12\u001B[1;33m     \u001B[0mfiltered_transactions\u001B[0m \u001B[1;33m=\u001B[0m \u001B[0mdf\u001B[0m\u001B[1;33m[\u001B[0m\u001B[0mdf\u001B[0m\u001B[1;33m[\u001B[0m\u001B[1;34m'TypeTransaction'\u001B[0m\u001B[1;33m]\u001B[0m \u001B[1;33m==\u001B[0m \u001B[0mtransaction_type\u001B[0m\u001B[1;33m]\u001B[0m\u001B[1;33m\u001B[0m\u001B[1;33m\u001B[0m\u001B[0m\n\u001B[0m\u001B[0;32m     13\u001B[0m \u001B[1;33m\u001B[0m\u001B[0m\n\u001B[0;32m     14\u001B[0m     \u001B[1;31m# Group the filtered dataset by the combination of 'user_id' and 'idCryptoPunk' and count the number of transactions\u001B[0m\u001B[1;33m\u001B[0m\u001B[1;33m\u001B[0m\u001B[1;33m\u001B[0m\u001B[0m\n",
      "\u001B[1;31mNameError\u001B[0m: name 'df' is not defined"
     ]
    }
   ],
   "execution_count": 212
  },
  {
   "cell_type": "code",
   "source": [
    "import pandas as pd\n",
    "from scipy.sparse import csr_matrix\n",
    "from scipy.sparse import save_npz\n",
    "\n",
    "# Assume 'df' is your DataFrame containing all transactions\n",
    "\n",
    "# Transaction types\n",
    "transaction_types = ['Sold', 'Bid', 'Offer Withdrawn', 'Offered', 'Bid Withdrawn']\n",
    "\n",
    "for transaction_type in transaction_types:\n",
    "    # Filter transactions by type\n",
    "    filtered_transactions = df[df['TypeTransaction'] == transaction_type]\n",
    "\n",
    "    # Group the filtered dataset by the combination of 'user_id' and 'idCryptoPunk' and count the number of transactions\n",
    "    transactions_count = filtered_transactions.groupby(['user_id', 'idCryptoPunk']).size().reset_index(name='num_transactions')\n",
    "\n",
    "    print(f\"Reorganized dataset for '{transaction_type}':\")\n",
    "    print(transactions_count)\n",
    "\n",
    "    # Determine the shape of the sparse matrix\n",
    "    num_users = transactions_count['user_id'].max() + 1\n",
    "    num_tokens = transactions_count['idCryptoPunk'].max() + 1\n",
    "\n",
    "    # Output the maximum user ID and ID cryptopunk\n",
    "    print(f\"Maximum user ID for {transaction_type}: {num_users - 1}\")\n",
    "    print(f\"Maximum ID CryptoPunk for {transaction_type}: {num_tokens - 1}\")\n",
    "\n",
    "    # Create the sparse matrix for the current transaction type\n",
    "    sparse_matrix = csr_matrix((transactions_count['num_transactions'], (transactions_count['user_id'], transactions_count['idCryptoPunk'])), shape=(num_users, num_tokens))\n",
    "\n",
    "    print(f\"Sparse matrix in CSR format for {transaction_type}:\")\n",
    "    print(sparse_matrix)\n",
    "\n",
    "    # Determine the file name based on transaction type\n",
    "    file_name = f\"{transaction_type.lower().replace(' ', '_')}.npz\"\n",
    "\n",
    "    # Save the CSR matrix\n",
    "    save_npz(file_name, sparse_matrix)\n",
    "\n",
    "    print(f\"CSR matrix for {transaction_type} saved as '{file_name}'\")\n"
   ],
   "metadata": {
    "colab": {
     "base_uri": "https://localhost:8080/"
    },
    "id": "HBADkpffObkl",
    "outputId": "237d25eb-6c3e-457e-9580-0ccdd4c17fb0",
    "ExecuteTime": {
     "end_time": "2024-08-11T14:01:52.934094Z",
     "start_time": "2024-08-11T14:01:52.911706Z"
    }
   },
   "outputs": [
    {
     "ename": "NameError",
     "evalue": "name 'df' is not defined",
     "output_type": "error",
     "traceback": [
      "\u001B[1;31m---------------------------------------------------------------------------\u001B[0m",
      "\u001B[1;31mNameError\u001B[0m                                 Traceback (most recent call last)",
      "\u001B[1;32m<ipython-input-213-e4e19ba3361c>\u001B[0m in \u001B[0;36m<module>\u001B[1;34m\u001B[0m\n\u001B[0;32m     10\u001B[0m \u001B[1;32mfor\u001B[0m \u001B[0mtransaction_type\u001B[0m \u001B[1;32min\u001B[0m \u001B[0mtransaction_types\u001B[0m\u001B[1;33m:\u001B[0m\u001B[1;33m\u001B[0m\u001B[1;33m\u001B[0m\u001B[0m\n\u001B[0;32m     11\u001B[0m     \u001B[1;31m# Filter transactions by type\u001B[0m\u001B[1;33m\u001B[0m\u001B[1;33m\u001B[0m\u001B[1;33m\u001B[0m\u001B[0m\n\u001B[1;32m---> 12\u001B[1;33m     \u001B[0mfiltered_transactions\u001B[0m \u001B[1;33m=\u001B[0m \u001B[0mdf\u001B[0m\u001B[1;33m[\u001B[0m\u001B[0mdf\u001B[0m\u001B[1;33m[\u001B[0m\u001B[1;34m'TypeTransaction'\u001B[0m\u001B[1;33m]\u001B[0m \u001B[1;33m==\u001B[0m \u001B[0mtransaction_type\u001B[0m\u001B[1;33m]\u001B[0m\u001B[1;33m\u001B[0m\u001B[1;33m\u001B[0m\u001B[0m\n\u001B[0m\u001B[0;32m     13\u001B[0m \u001B[1;33m\u001B[0m\u001B[0m\n\u001B[0;32m     14\u001B[0m     \u001B[1;31m# Group the filtered dataset by the combination of 'user_id' and 'idCryptoPunk' and count the number of transactions\u001B[0m\u001B[1;33m\u001B[0m\u001B[1;33m\u001B[0m\u001B[1;33m\u001B[0m\u001B[0m\n",
      "\u001B[1;31mNameError\u001B[0m: name 'df' is not defined"
     ]
    }
   ],
   "execution_count": 213
  },
  {
   "cell_type": "code",
   "source": [
    "import pandas as pd\n",
    "from scipy.sparse import csr_matrix\n",
    "import pickle\n",
    "\n",
    "def process_and_save(df, transaction_type):\n",
    "    # Filter out transactions of the given type\n",
    "    filtered_df = df[df['TypeTransaction'] == transaction_type]\n",
    "\n",
    "    # Convert 'Date' from datetime to a numerical timestamp (e.g., days since the start of the dataset)\n",
    "    filtered_df['Date'] = pd.to_datetime(filtered_df['Date'])\n",
    "    # Assuming you want to use days as your unit, you can subtract the minimum date and convert to days\n",
    "    min_date = filtered_df['Date'].min()\n",
    "    filtered_df['transactionTime'] = (filtered_df['Date'] - min_date).dt.days\n",
    "\n",
    "    # Group the filtered dataset by 'user_id' and 'idCryptoPunk', selecting the last transaction time\n",
    "    last_transactions = filtered_df.groupby(['user_id', 'idCryptoPunk'])['transactionTime'].max().reset_index()\n",
    "\n",
    "    # Ensure user_id and idCryptoPunk are treated as categorical for proper indexing\n",
    "    last_transactions['user_id'] = pd.Categorical(last_transactions['user_id'])\n",
    "    last_transactions['idCryptoPunk'] = pd.Categorical(last_transactions['idCryptoPunk'])\n",
    "\n",
    "    # Determine the shape of the sparse matrix\n",
    "    num_users = last_transactions['user_id'].cat.codes.max() + 1\n",
    "    num_tokens = last_transactions['idCryptoPunk'].cat.codes.max() + 1\n",
    "\n",
    "    # Create the sparse matrix, using transaction times as values\n",
    "    sparse_matrix = csr_matrix((last_transactions['transactionTime'],\n",
    "                                (last_transactions['user_id'].cat.codes, last_transactions['idCryptoPunk'].cat.codes)),\n",
    "                               shape=(num_users, num_tokens))\n",
    "\n",
    "    # Save the CSR matrix as a .pkl file\n",
    "    file_name = f\"{transaction_type.lower()}.pkl\"\n",
    "    with open(file_name, 'wb') as f:\n",
    "        pickle.dump(sparse_matrix, f)\n",
    "\n",
    "    print(f\"CSR matrix saved as '{file_name}'\")\n",
    "\n",
    "# Apply the operation for each transaction type\n",
    "transaction_types = ['Sold', 'Bid', 'Offer Withdrawn', 'Offered', 'Bid Withdrawn']\n",
    "for transaction_type in transaction_types:\n",
    "    process_and_save(df, transaction_type)\n"
   ],
   "metadata": {
    "colab": {
     "base_uri": "https://localhost:8080/"
    },
    "id": "Gey3bFpYAwmo",
    "outputId": "fb52c77d-01b4-4b50-cfed-5af6b8b884ba",
    "ExecuteTime": {
     "end_time": "2024-08-11T14:01:52.949924Z",
     "start_time": "2024-08-11T14:01:52.935327Z"
    }
   },
   "outputs": [
    {
     "ename": "NameError",
     "evalue": "name 'df' is not defined",
     "output_type": "error",
     "traceback": [
      "\u001B[1;31m---------------------------------------------------------------------------\u001B[0m",
      "\u001B[1;31mNameError\u001B[0m                                 Traceback (most recent call last)",
      "\u001B[1;32m<ipython-input-214-09c826816d5a>\u001B[0m in \u001B[0;36m<module>\u001B[1;34m\u001B[0m\n\u001B[0;32m     39\u001B[0m \u001B[0mtransaction_types\u001B[0m \u001B[1;33m=\u001B[0m \u001B[1;33m[\u001B[0m\u001B[1;34m'Sold'\u001B[0m\u001B[1;33m,\u001B[0m \u001B[1;34m'Bid'\u001B[0m\u001B[1;33m,\u001B[0m \u001B[1;34m'Offer Withdrawn'\u001B[0m\u001B[1;33m,\u001B[0m \u001B[1;34m'Offered'\u001B[0m\u001B[1;33m,\u001B[0m \u001B[1;34m'Bid Withdrawn'\u001B[0m\u001B[1;33m]\u001B[0m\u001B[1;33m\u001B[0m\u001B[1;33m\u001B[0m\u001B[0m\n\u001B[0;32m     40\u001B[0m \u001B[1;32mfor\u001B[0m \u001B[0mtransaction_type\u001B[0m \u001B[1;32min\u001B[0m \u001B[0mtransaction_types\u001B[0m\u001B[1;33m:\u001B[0m\u001B[1;33m\u001B[0m\u001B[1;33m\u001B[0m\u001B[0m\n\u001B[1;32m---> 41\u001B[1;33m     \u001B[0mprocess_and_save\u001B[0m\u001B[1;33m(\u001B[0m\u001B[0mdf\u001B[0m\u001B[1;33m,\u001B[0m \u001B[0mtransaction_type\u001B[0m\u001B[1;33m)\u001B[0m\u001B[1;33m\u001B[0m\u001B[1;33m\u001B[0m\u001B[0m\n\u001B[0m\u001B[0;32m     42\u001B[0m \u001B[1;33m\u001B[0m\u001B[0m\n",
      "\u001B[1;31mNameError\u001B[0m: name 'df' is not defined"
     ]
    }
   ],
   "execution_count": 214
  },
  {
   "cell_type": "code",
   "source": [
    "import pickle\n",
    "from scipy.sparse import csr_matrix\n",
    "# Load the CSR matrix from the .pkl file\n",
    "file_name = \"sold.pkl\"  # Replace with the correct file name as needed\n",
    "with open(file_name, 'rb') as f:\n",
    "    sparse_matrix = pickle.load(f)\n",
    "\n",
    "# Print the data type\n",
    "print(f\"Loaded data type: {type(sparse_matrix)}\")\n",
    "\n",
    "# Print the content in the desired format\n",
    "print(\"Data content:\")\n",
    "print(sparse_matrix)\n"
   ],
   "metadata": {
    "colab": {
     "base_uri": "https://localhost:8080/"
    },
    "id": "TB3zt2VTsXPj",
    "outputId": "d322a473-548a-43c5-df9a-fbd69ad1525a",
    "ExecuteTime": {
     "end_time": "2024-08-11T14:01:52.995720Z",
     "start_time": "2024-08-11T14:01:52.977704Z"
    }
   },
   "outputs": [
    {
     "ename": "FileNotFoundError",
     "evalue": "[Errno 2] No such file or directory: 'sold.pkl'",
     "output_type": "error",
     "traceback": [
      "\u001B[1;31m---------------------------------------------------------------------------\u001B[0m",
      "\u001B[1;31mFileNotFoundError\u001B[0m                         Traceback (most recent call last)",
      "\u001B[1;32m<ipython-input-215-67f35d7a65c0>\u001B[0m in \u001B[0;36m<module>\u001B[1;34m\u001B[0m\n\u001B[0;32m      3\u001B[0m \u001B[1;31m# Load the CSR matrix from the .pkl file\u001B[0m\u001B[1;33m\u001B[0m\u001B[1;33m\u001B[0m\u001B[1;33m\u001B[0m\u001B[0m\n\u001B[0;32m      4\u001B[0m \u001B[0mfile_name\u001B[0m \u001B[1;33m=\u001B[0m \u001B[1;34m\"sold.pkl\"\u001B[0m  \u001B[1;31m# Replace with the correct file name as needed\u001B[0m\u001B[1;33m\u001B[0m\u001B[1;33m\u001B[0m\u001B[0m\n\u001B[1;32m----> 5\u001B[1;33m \u001B[1;32mwith\u001B[0m \u001B[0mopen\u001B[0m\u001B[1;33m(\u001B[0m\u001B[0mfile_name\u001B[0m\u001B[1;33m,\u001B[0m \u001B[1;34m'rb'\u001B[0m\u001B[1;33m)\u001B[0m \u001B[1;32mas\u001B[0m \u001B[0mf\u001B[0m\u001B[1;33m:\u001B[0m\u001B[1;33m\u001B[0m\u001B[1;33m\u001B[0m\u001B[0m\n\u001B[0m\u001B[0;32m      6\u001B[0m     \u001B[0msparse_matrix\u001B[0m \u001B[1;33m=\u001B[0m \u001B[0mpickle\u001B[0m\u001B[1;33m.\u001B[0m\u001B[0mload\u001B[0m\u001B[1;33m(\u001B[0m\u001B[0mf\u001B[0m\u001B[1;33m)\u001B[0m\u001B[1;33m\u001B[0m\u001B[1;33m\u001B[0m\u001B[0m\n\u001B[0;32m      7\u001B[0m \u001B[1;33m\u001B[0m\u001B[0m\n",
      "\u001B[1;31mFileNotFoundError\u001B[0m: [Errno 2] No such file or directory: 'sold.pkl'"
     ]
    }
   ],
   "execution_count": 215
  },
  {
   "cell_type": "code",
   "source": [
    "import pandas as pd\n",
    "from scipy.sparse import csr_matrix, save_npz\n",
    "\n",
    "def convert_to_epoch(time_series):\n",
    "    \"\"\"Converts a pandas Series of datetime objects to epoch time.\"\"\"\n",
    "    return time_series.astype('int64') // 10**9\n",
    "\n",
    "def process_and_save(df, transaction_type, test_users_last_sold):\n",
    "    # Filter out transactions of the given type\n",
    "    filtered_df = df[df['TypeTransaction'] == transaction_type]\n",
    "\n",
    "    # Exclude last 'sold' transactions from the training set\n",
    "    if transaction_type != 'Sold':\n",
    "        filtered_df = filtered_df[~filtered_df.index.isin(test_users_last_sold.index)]\n",
    "\n",
    "    # Convert 'Date' to epoch time\n",
    "    filtered_df['EpochTime'] = convert_to_epoch(filtered_df['Date'])\n",
    "\n",
    "    # Group by 'user_id' and 'idCryptoPunk', selecting the last transaction time\n",
    "    last_transactions = filtered_df.groupby(['user_id', 'idCryptoPunk'])['EpochTime'].max().reset_index()\n",
    "\n",
    "    # Ensure user_id and idCryptoPunk are treated as categorical for proper indexing\n",
    "    last_transactions['user_id'] = pd.Categorical(last_transactions['user_id'])\n",
    "    last_transactions['idCryptoPunk'] = pd.Categorical(last_transactions['idCryptoPunk'])\n",
    "\n",
    "    # Create the sparse matrix\n",
    "    num_users = df['user_id'].nunique()\n",
    "    num_tokens = df['idCryptoPunk'].nunique()\n",
    "    sparse_matrix = csr_matrix((last_transactions['EpochTime'],\n",
    "                                (last_transactions['user_id'].cat.codes, last_transactions['idCryptoPunk'].cat.codes)),\n",
    "                               shape=(num_users, num_tokens))\n",
    "\n",
    "    # Save the CSR matrix\n",
    "    file_name = f\"{transaction_type.lower()}.npz\"\n",
    "    save_npz(file_name, sparse_matrix)\n",
    "    print(f\"CSR matrix saved as '{file_name}'\")\n",
    "\n",
    "\n",
    "\n",
    "# Convert 'Date' column to datetime\n",
    "df['Date'] = pd.to_datetime(df['Date'])\n",
    "df['user_id'] = df['idPropietario'].astype('category').cat.codes + 1\n",
    "\n",
    "# Identify the last 'sold' transaction for each user\n",
    "last_sold_transactions = df[df['TypeTransaction'] == 'Sold'].groupby('user_id').apply(lambda x: x.nlargest(1, 'Date'))\n",
    "test_users_last_sold = last_sold_transactions.set_index('user_id')\n",
    "\n",
    "# Apply the operation for each transaction type\n",
    "transaction_types = ['Sold', 'Bid', 'Offer Withdrawn', 'Offered', 'Bid Withdrawn']\n",
    "for transaction_type in transaction_types:\n",
    "    process_and_save(df, transaction_type, test_users_last_sold)\n"
   ],
   "metadata": {
    "colab": {
     "base_uri": "https://localhost:8080/"
    },
    "id": "ZV9r_ZIVMwOm",
    "outputId": "08d5017c-9ee0-4bc4-f2f9-26e12d582650",
    "ExecuteTime": {
     "end_time": "2024-08-11T14:01:53.021182Z",
     "start_time": "2024-08-11T14:01:53.004186Z"
    }
   },
   "outputs": [
    {
     "ename": "NameError",
     "evalue": "name 'df' is not defined",
     "output_type": "error",
     "traceback": [
      "\u001B[1;31m---------------------------------------------------------------------------\u001B[0m",
      "\u001B[1;31mNameError\u001B[0m                                 Traceback (most recent call last)",
      "\u001B[1;32m<ipython-input-216-9e34135e0245>\u001B[0m in \u001B[0;36m<module>\u001B[1;34m\u001B[0m\n\u001B[0;32m     39\u001B[0m \u001B[1;33m\u001B[0m\u001B[0m\n\u001B[0;32m     40\u001B[0m \u001B[1;31m# Convert 'Date' column to datetime\u001B[0m\u001B[1;33m\u001B[0m\u001B[1;33m\u001B[0m\u001B[1;33m\u001B[0m\u001B[0m\n\u001B[1;32m---> 41\u001B[1;33m \u001B[0mdf\u001B[0m\u001B[1;33m[\u001B[0m\u001B[1;34m'Date'\u001B[0m\u001B[1;33m]\u001B[0m \u001B[1;33m=\u001B[0m \u001B[0mpd\u001B[0m\u001B[1;33m.\u001B[0m\u001B[0mto_datetime\u001B[0m\u001B[1;33m(\u001B[0m\u001B[0mdf\u001B[0m\u001B[1;33m[\u001B[0m\u001B[1;34m'Date'\u001B[0m\u001B[1;33m]\u001B[0m\u001B[1;33m)\u001B[0m\u001B[1;33m\u001B[0m\u001B[1;33m\u001B[0m\u001B[0m\n\u001B[0m\u001B[0;32m     42\u001B[0m \u001B[0mdf\u001B[0m\u001B[1;33m[\u001B[0m\u001B[1;34m'user_id'\u001B[0m\u001B[1;33m]\u001B[0m \u001B[1;33m=\u001B[0m \u001B[0mdf\u001B[0m\u001B[1;33m[\u001B[0m\u001B[1;34m'idPropietario'\u001B[0m\u001B[1;33m]\u001B[0m\u001B[1;33m.\u001B[0m\u001B[0mastype\u001B[0m\u001B[1;33m(\u001B[0m\u001B[1;34m'category'\u001B[0m\u001B[1;33m)\u001B[0m\u001B[1;33m.\u001B[0m\u001B[0mcat\u001B[0m\u001B[1;33m.\u001B[0m\u001B[0mcodes\u001B[0m \u001B[1;33m+\u001B[0m \u001B[1;36m1\u001B[0m\u001B[1;33m\u001B[0m\u001B[1;33m\u001B[0m\u001B[0m\n\u001B[0;32m     43\u001B[0m \u001B[1;33m\u001B[0m\u001B[0m\n",
      "\u001B[1;31mNameError\u001B[0m: name 'df' is not defined"
     ]
    }
   ],
   "execution_count": 216
  },
  {
   "cell_type": "code",
   "source": [
    "df1=df"
   ],
   "metadata": {
    "id": "lGwupkW2XT6c",
    "ExecuteTime": {
     "end_time": "2024-08-11T14:01:53.095865Z",
     "start_time": "2024-08-11T14:01:53.081614Z"
    }
   },
   "outputs": [
    {
     "ename": "NameError",
     "evalue": "name 'df' is not defined",
     "output_type": "error",
     "traceback": [
      "\u001B[1;31m---------------------------------------------------------------------------\u001B[0m",
      "\u001B[1;31mNameError\u001B[0m                                 Traceback (most recent call last)",
      "\u001B[1;32m<ipython-input-217-be41143f44b0>\u001B[0m in \u001B[0;36m<module>\u001B[1;34m\u001B[0m\n\u001B[1;32m----> 1\u001B[1;33m \u001B[0mdf1\u001B[0m\u001B[1;33m=\u001B[0m\u001B[0mdf\u001B[0m\u001B[1;33m\u001B[0m\u001B[1;33m\u001B[0m\u001B[0m\n\u001B[0m",
      "\u001B[1;31mNameError\u001B[0m: name 'df' is not defined"
     ]
    }
   ],
   "execution_count": 217
  },
  {
   "cell_type": "code",
   "source": [
    "df1['Date'] = df1['Date'].str.split(' ').str[0]\n"
   ],
   "metadata": {
    "colab": {
     "base_uri": "https://localhost:8080/",
     "height": 293
    },
    "id": "zrR3bvFQXYcn",
    "outputId": "6e519455-7657-49f7-88c8-8680871e659d",
    "ExecuteTime": {
     "end_time": "2024-08-11T14:01:53.124487Z",
     "start_time": "2024-08-11T14:01:53.115832Z"
    }
   },
   "outputs": [
    {
     "ename": "NameError",
     "evalue": "name 'df1' is not defined",
     "output_type": "error",
     "traceback": [
      "\u001B[1;31m---------------------------------------------------------------------------\u001B[0m",
      "\u001B[1;31mNameError\u001B[0m                                 Traceback (most recent call last)",
      "\u001B[1;32m<ipython-input-218-5d4f2972ee1f>\u001B[0m in \u001B[0;36m<module>\u001B[1;34m\u001B[0m\n\u001B[1;32m----> 1\u001B[1;33m \u001B[0mdf1\u001B[0m\u001B[1;33m[\u001B[0m\u001B[1;34m'Date'\u001B[0m\u001B[1;33m]\u001B[0m \u001B[1;33m=\u001B[0m \u001B[0mdf1\u001B[0m\u001B[1;33m[\u001B[0m\u001B[1;34m'Date'\u001B[0m\u001B[1;33m]\u001B[0m\u001B[1;33m.\u001B[0m\u001B[0mstr\u001B[0m\u001B[1;33m.\u001B[0m\u001B[0msplit\u001B[0m\u001B[1;33m(\u001B[0m\u001B[1;34m' '\u001B[0m\u001B[1;33m)\u001B[0m\u001B[1;33m.\u001B[0m\u001B[0mstr\u001B[0m\u001B[1;33m[\u001B[0m\u001B[1;36m0\u001B[0m\u001B[1;33m]\u001B[0m\u001B[1;33m\u001B[0m\u001B[1;33m\u001B[0m\u001B[0m\n\u001B[0m\u001B[0;32m      2\u001B[0m \u001B[1;33m\u001B[0m\u001B[0m\n",
      "\u001B[1;31mNameError\u001B[0m: name 'df1' is not defined"
     ]
    }
   ],
   "execution_count": 218
  },
  {
   "cell_type": "code",
   "source": [
    "df1"
   ],
   "metadata": {
    "id": "ziDOljIDXyf6",
    "ExecuteTime": {
     "end_time": "2024-08-11T14:01:53.166754Z",
     "start_time": "2024-08-11T14:01:53.151840Z"
    }
   },
   "outputs": [
    {
     "ename": "NameError",
     "evalue": "name 'df1' is not defined",
     "output_type": "error",
     "traceback": [
      "\u001B[1;31m---------------------------------------------------------------------------\u001B[0m",
      "\u001B[1;31mNameError\u001B[0m                                 Traceback (most recent call last)",
      "\u001B[1;32m<ipython-input-219-6a861a8b3f1a>\u001B[0m in \u001B[0;36m<module>\u001B[1;34m\u001B[0m\n\u001B[1;32m----> 1\u001B[1;33m \u001B[0mdf1\u001B[0m\u001B[1;33m\u001B[0m\u001B[1;33m\u001B[0m\u001B[0m\n\u001B[0m",
      "\u001B[1;31mNameError\u001B[0m: name 'df1' is not defined"
     ]
    }
   ],
   "execution_count": 219
  },
  {
   "cell_type": "code",
   "source": [
    "df.Date"
   ],
   "metadata": {
    "id": "HUmFWcCTW4Ja",
    "ExecuteTime": {
     "end_time": "2024-08-11T14:01:53.211975Z",
     "start_time": "2024-08-11T14:01:53.192975Z"
    }
   },
   "outputs": [
    {
     "ename": "NameError",
     "evalue": "name 'df' is not defined",
     "output_type": "error",
     "traceback": [
      "\u001B[1;31m---------------------------------------------------------------------------\u001B[0m",
      "\u001B[1;31mNameError\u001B[0m                                 Traceback (most recent call last)",
      "\u001B[1;32m<ipython-input-220-552e76799119>\u001B[0m in \u001B[0;36m<module>\u001B[1;34m\u001B[0m\n\u001B[1;32m----> 1\u001B[1;33m \u001B[0mdf\u001B[0m\u001B[1;33m.\u001B[0m\u001B[0mDate\u001B[0m\u001B[1;33m\u001B[0m\u001B[1;33m\u001B[0m\u001B[0m\n\u001B[0m",
      "\u001B[1;31mNameError\u001B[0m: name 'df' is not defined"
     ]
    }
   ],
   "execution_count": 220
  },
  {
   "cell_type": "code",
   "source": [
    "\n",
    "\n",
    "# Now, convert the 'Date' column to datetime\n",
    "df['Date'] = pd.to_datetime(df['Date'])"
   ],
   "metadata": {
    "id": "d1owcuk31SvU",
    "ExecuteTime": {
     "end_time": "2024-08-11T14:01:53.228858Z",
     "start_time": "2024-08-11T14:01:53.213073Z"
    }
   },
   "outputs": [
    {
     "ename": "NameError",
     "evalue": "name 'df' is not defined",
     "output_type": "error",
     "traceback": [
      "\u001B[1;31m---------------------------------------------------------------------------\u001B[0m",
      "\u001B[1;31mNameError\u001B[0m                                 Traceback (most recent call last)",
      "\u001B[1;32m<ipython-input-221-ab4bb6e7bd34>\u001B[0m in \u001B[0;36m<module>\u001B[1;34m\u001B[0m\n\u001B[0;32m      1\u001B[0m \u001B[1;31m# Now, convert the 'Date' column to datetime\u001B[0m\u001B[1;33m\u001B[0m\u001B[1;33m\u001B[0m\u001B[1;33m\u001B[0m\u001B[0m\n\u001B[1;32m----> 2\u001B[1;33m \u001B[0mdf\u001B[0m\u001B[1;33m[\u001B[0m\u001B[1;34m'Date'\u001B[0m\u001B[1;33m]\u001B[0m \u001B[1;33m=\u001B[0m \u001B[0mpd\u001B[0m\u001B[1;33m.\u001B[0m\u001B[0mto_datetime\u001B[0m\u001B[1;33m(\u001B[0m\u001B[0mdf\u001B[0m\u001B[1;33m[\u001B[0m\u001B[1;34m'Date'\u001B[0m\u001B[1;33m]\u001B[0m\u001B[1;33m)\u001B[0m\u001B[1;33m\u001B[0m\u001B[1;33m\u001B[0m\u001B[0m\n\u001B[0m",
      "\u001B[1;31mNameError\u001B[0m: name 'df' is not defined"
     ]
    }
   ],
   "execution_count": 221
  },
  {
   "cell_type": "code",
   "source": [
    "import pandas as pd\n",
    "from scipy.sparse import csr_matrix\n",
    "from scipy.sparse import save_npz\n",
    "\n",
    "# Assume 'df' is your DataFrame containing all transactions\n",
    "\n",
    "# Ensure the 'Date' column is in datetime format\n",
    "df['Date'] = pd.to_datetime(df['Date'])\n",
    "\n",
    "# Transaction types\n",
    "transaction_types = ['Sold', 'Bid', 'Offer Withdrawn', 'Offered', 'Bid Withdrawn']\n",
    "\n",
    "# Initialize a list to store test data for 'Sold' transactions\n",
    "test_data_sold = []\n",
    "\n",
    "for transaction_type in transaction_types:\n",
    "    # Filter transactions by type\n",
    "    filtered_transactions = df[df['TypeTransaction'] == transaction_type]\n",
    "\n",
    "    if transaction_type == 'Sold':\n",
    "        # Sort transactions to ensure the last transaction per user is identified correctly\n",
    "        sorted_transactions = filtered_transactions.sort_values(by=['user_id', 'Date'])\n",
    "\n",
    "        # Identify the last transaction for each user\n",
    "        last_transaction_per_user = sorted_transactions.drop_duplicates('user_id', keep='last')\n",
    "\n",
    "        # Add last transactions to the test dataset\n",
    "        test_data_sold.extend(last_transaction_per_user[['user_id', 'idCryptoPunk']].values.tolist())\n",
    "\n",
    "        # Remove the last transactions from the dataset to create the training set\n",
    "        filtered_transactions = sorted_transactions.drop(last_transaction_per_user.index)\n",
    "\n",
    "    # Group the filtered dataset by 'user_id' and 'idCryptoPunk' and take the maximum 'Date' of transactions\n",
    "    transactions_date = filtered_transactions.groupby(['user_id', 'idCryptoPunk'])['Date'].max().reset_index()\n",
    "\n",
    "    # Convert dates to a numerical format (e.g., ordinal date) for use in the sparse matrix\n",
    "    transactions_date['Date'] = transactions_date['Date'].apply(lambda x: x.toordinal())\n",
    "\n",
    "    # Determine the shape of the sparse matrix\n",
    "    num_users = transactions_date['user_id'].max() + 1\n",
    "    num_tokens = transactions_date['idCryptoPunk'].max() + 1\n",
    "\n",
    "    # Create the sparse matrix for the current transaction type, using the latest transaction date\n",
    "    sparse_matrix = csr_matrix((transactions_date['Date'], (transactions_date['user_id'], transactions_date['idCryptoPunk'])), shape=(num_users, num_tokens))\n",
    "\n",
    "    # Determine the file name based on transaction type\n",
    "    file_name = f\"{transaction_type.lower().replace(' ', '_')}.npz\"\n",
    "\n",
    "    # Save the CSR matrix\n",
    "    save_npz(file_name, sparse_matrix)\n",
    "\n",
    "    print(f\"CSR matrix for {transaction_type} saved as '{file_name}'\")\n",
    "\n",
    "# Handle the case where some users did not sell anything\n",
    "users_with_sold_transactions = set([x[0] for x in test_data_sold])\n",
    "all_users = set(df['user_id'].unique())\n",
    "users_without_sold = all_users - users_with_sold_transactions\n",
    "test_data_sold.extend([(user, None) for user in users_without_sold])\n",
    "\n",
    "print(\"Test dataset for 'Sold' transactions (user_id, idCryptoPunk):\")\n",
    "print(test_data_sold)\n"
   ],
   "metadata": {
    "id": "9R0Txi1AOTnW",
    "colab": {
     "base_uri": "https://localhost:8080/"
    },
    "outputId": "f6e5cafd-8188-4174-adc0-c62c59a12cd6",
    "ExecuteTime": {
     "end_time": "2024-08-11T14:01:53.269895Z",
     "start_time": "2024-08-11T14:01:53.245845Z"
    }
   },
   "outputs": [
    {
     "ename": "NameError",
     "evalue": "name 'df' is not defined",
     "output_type": "error",
     "traceback": [
      "\u001B[1;31m---------------------------------------------------------------------------\u001B[0m",
      "\u001B[1;31mNameError\u001B[0m                                 Traceback (most recent call last)",
      "\u001B[1;32m<ipython-input-222-fd226ccb018f>\u001B[0m in \u001B[0;36m<module>\u001B[1;34m\u001B[0m\n\u001B[0;32m      6\u001B[0m \u001B[1;33m\u001B[0m\u001B[0m\n\u001B[0;32m      7\u001B[0m \u001B[1;31m# Ensure the 'Date' column is in datetime format\u001B[0m\u001B[1;33m\u001B[0m\u001B[1;33m\u001B[0m\u001B[1;33m\u001B[0m\u001B[0m\n\u001B[1;32m----> 8\u001B[1;33m \u001B[0mdf\u001B[0m\u001B[1;33m[\u001B[0m\u001B[1;34m'Date'\u001B[0m\u001B[1;33m]\u001B[0m \u001B[1;33m=\u001B[0m \u001B[0mpd\u001B[0m\u001B[1;33m.\u001B[0m\u001B[0mto_datetime\u001B[0m\u001B[1;33m(\u001B[0m\u001B[0mdf\u001B[0m\u001B[1;33m[\u001B[0m\u001B[1;34m'Date'\u001B[0m\u001B[1;33m]\u001B[0m\u001B[1;33m)\u001B[0m\u001B[1;33m\u001B[0m\u001B[1;33m\u001B[0m\u001B[0m\n\u001B[0m\u001B[0;32m      9\u001B[0m \u001B[1;33m\u001B[0m\u001B[0m\n\u001B[0;32m     10\u001B[0m \u001B[1;31m# Transaction types\u001B[0m\u001B[1;33m\u001B[0m\u001B[1;33m\u001B[0m\u001B[1;33m\u001B[0m\u001B[0m\n",
      "\u001B[1;31mNameError\u001B[0m: name 'df' is not defined"
     ]
    }
   ],
   "execution_count": 222
  },
  {
   "cell_type": "code",
   "source": [],
   "metadata": {
    "id": "Nyw8e0v5vhE6",
    "ExecuteTime": {
     "end_time": "2024-08-11T14:01:53.301671Z",
     "start_time": "2024-08-11T14:01:53.285544Z"
    }
   },
   "outputs": [],
   "execution_count": 222
  },
  {
   "cell_type": "code",
   "source": [
    "import pandas as pd\n",
    "from scipy.sparse import csr_matrix\n",
    "from scipy.sparse import save_npz\n",
    "import pandas as pd\n",
    "from scipy.sparse import csr_matrix\n",
    "from scipy.sparse import save_npz\n",
    "import pickle\n",
    "\n",
    "# Ensure the 'Date' column is in datetime format\n",
    "df['Date'] = pd.to_datetime(df['Date'])\n",
    "\n",
    "# Transaction types\n",
    "transaction_types = ['Sold', 'Bid', 'Offer Withdrawn', 'Offered', 'Bid Withdrawn']\n",
    "\n",
    "# Initialize a list to store test data for 'Sold' transactions\n",
    "test_data_sold = []\n",
    "\n",
    "for transaction_type in transaction_types:\n",
    "    # Filter transactions by type\n",
    "    filtered_transactions = df[df['TypeTransaction'] == transaction_type]\n",
    "\n",
    "    if (transaction_type == 'Sold') and not filtered_transactions.empty:\n",
    "        # Sort transactions to ensure the last transaction per user is identified correctly\n",
    "        sorted_transactions = filtered_transactions.sort_values(by=['user_id', 'Date'])\n",
    "\n",
    "        # Identify the last transaction for each user\n",
    "        last_transaction_per_user = sorted_transactions.drop_duplicates('user_id', keep='last')\n",
    "\n",
    "        # Add last transactions to the test dataset\n",
    "        test_data_sold.extend(last_transaction_per_user[['user_id', 'idCryptoPunk']].values.tolist())\n",
    "\n",
    "        # Remove the last transactions from the dataset to create the training set\n",
    "        filtered_transactions = sorted_transactions.drop(last_transaction_per_user.index)\n",
    "\n",
    "    # Group the filtered dataset by 'user_id' and 'idCryptoPunk' and take the maximum 'Date' of transactions\n",
    "    transactions_date = filtered_transactions.groupby(['user_id', 'idCryptoPunk'])['Date'].max().reset_index()\n",
    "\n",
    "    # Convert dates to a numerical format (e.g., ordinal date) for use in the sparse matrix\n",
    "    transactions_date['Date'] = transactions_date['Date'].apply(lambda x: x.toordinal())\n",
    "\n",
    "    # Determine the shape of the sparse matrix\n",
    "    num_users = transactions_date['user_id'].max() + 1\n",
    "    num_tokens = transactions_date['idCryptoPunk'].max() + 1\n",
    "\n",
    "    # Create the sparse matrix for the current transaction type, using the latest transaction date\n",
    "    sparse_matrix = csr_matrix((transactions_date['Date'], (transactions_date['user_id'], transactions_date['idCryptoPunk'])), shape=(num_users, num_tokens))\n",
    "\n",
    "    # Determine the file name based on transaction type\n",
    "    file_name = f\"{transaction_type.lower().replace(' ', '_')}.npz\"\n",
    "\n",
    "    # Save the CSR matrix\n",
    "    save_npz(file_name, sparse_matrix)\n",
    "\n",
    "    print(f\"CSR matrix for {transaction_type} saved as '{file_name}'\")\n",
    "\n",
    "# Handle the case where some users did not sell anything\n",
    "users_with_sold_transactions = set([x[0] for x in test_data_sold])\n",
    "all_users = set(df['user_id'].unique())\n",
    "users_without_sold = all_users - users_with_sold_transactions\n",
    "test_data_sold.extend([(user, None) for user in users_without_sold])\n",
    "\n",
    "# Ensure all pairs are consistent by converting any lists in the test_data_sold to tuples\n",
    "test_data_sold = [tuple(pair) for pair in test_data_sold]\n",
    "\n",
    "# Extract the sequence of items (idCryptoPunk) for each user\n",
    "item_sequence = [item if item is not None else None for _, item in sorted(test_data_sold)]\n",
    "\n",
    "print(\"Sequence of items corresponding to each user (without user IDs):\")\n",
    "print(item_sequence)\n",
    "\n",
    "# Export the item_sequence to a .pkl file\n",
    "with open(\"item_sequence.pkl\", \"wb\") as f:\n",
    "    pickle.dump(item_sequence, f)\n",
    "\n",
    "print(\"item_sequence has been exported to 'item_sequence.pkl'\")"
   ],
   "metadata": {
    "colab": {
     "base_uri": "https://localhost:8080/"
    },
    "id": "4Xpr84cjvhL9",
    "outputId": "2d895f7e-b979-44f2-be31-ff950508e357",
    "ExecuteTime": {
     "end_time": "2024-08-11T14:01:53.345677Z",
     "start_time": "2024-08-11T14:01:53.317872Z"
    }
   },
   "outputs": [
    {
     "ename": "NameError",
     "evalue": "name 'df' is not defined",
     "output_type": "error",
     "traceback": [
      "\u001B[1;31m---------------------------------------------------------------------------\u001B[0m",
      "\u001B[1;31mNameError\u001B[0m                                 Traceback (most recent call last)",
      "\u001B[1;32m<ipython-input-223-969f94db86c3>\u001B[0m in \u001B[0;36m<module>\u001B[1;34m\u001B[0m\n\u001B[0;32m      8\u001B[0m \u001B[1;33m\u001B[0m\u001B[0m\n\u001B[0;32m      9\u001B[0m \u001B[1;31m# Ensure the 'Date' column is in datetime format\u001B[0m\u001B[1;33m\u001B[0m\u001B[1;33m\u001B[0m\u001B[1;33m\u001B[0m\u001B[0m\n\u001B[1;32m---> 10\u001B[1;33m \u001B[0mdf\u001B[0m\u001B[1;33m[\u001B[0m\u001B[1;34m'Date'\u001B[0m\u001B[1;33m]\u001B[0m \u001B[1;33m=\u001B[0m \u001B[0mpd\u001B[0m\u001B[1;33m.\u001B[0m\u001B[0mto_datetime\u001B[0m\u001B[1;33m(\u001B[0m\u001B[0mdf\u001B[0m\u001B[1;33m[\u001B[0m\u001B[1;34m'Date'\u001B[0m\u001B[1;33m]\u001B[0m\u001B[1;33m)\u001B[0m\u001B[1;33m\u001B[0m\u001B[1;33m\u001B[0m\u001B[0m\n\u001B[0m\u001B[0;32m     11\u001B[0m \u001B[1;33m\u001B[0m\u001B[0m\n\u001B[0;32m     12\u001B[0m \u001B[1;31m# Transaction types\u001B[0m\u001B[1;33m\u001B[0m\u001B[1;33m\u001B[0m\u001B[1;33m\u001B[0m\u001B[0m\n",
      "\u001B[1;31mNameError\u001B[0m: name 'df' is not defined"
     ]
    }
   ],
   "execution_count": 223
  },
  {
   "cell_type": "code",
   "source": [
    "import numpy as np\n",
    "\n",
    "# Convert test_data_sold to a NumPy array\n",
    "# Assuming all user IDs are integers, and None is replaced with a specific integer, e.g., -1\n",
    "test_data_array = np.array([(user, -1 if punk is None else punk) for user, punk in test_data_sold], dtype=np.int64)\n",
    "\n",
    "# Save the NumPy array as an .npz file\n",
    "np.savez('test_data_sold.npz', test_data=item_sequence)\n"
   ],
   "metadata": {
    "id": "jFISAlVivhO3",
    "ExecuteTime": {
     "end_time": "2024-08-11T14:01:53.357842Z",
     "start_time": "2024-08-11T14:01:53.345677Z"
    }
   },
   "outputs": [
    {
     "ename": "NameError",
     "evalue": "name 'test_data_sold' is not defined",
     "output_type": "error",
     "traceback": [
      "\u001B[1;31m---------------------------------------------------------------------------\u001B[0m",
      "\u001B[1;31mNameError\u001B[0m                                 Traceback (most recent call last)",
      "\u001B[1;32m<ipython-input-224-7f6825c38e92>\u001B[0m in \u001B[0;36m<module>\u001B[1;34m\u001B[0m\n\u001B[0;32m      3\u001B[0m \u001B[1;31m# Convert test_data_sold to a NumPy array\u001B[0m\u001B[1;33m\u001B[0m\u001B[1;33m\u001B[0m\u001B[1;33m\u001B[0m\u001B[0m\n\u001B[0;32m      4\u001B[0m \u001B[1;31m# Assuming all user IDs are integers, and None is replaced with a specific integer, e.g., -1\u001B[0m\u001B[1;33m\u001B[0m\u001B[1;33m\u001B[0m\u001B[1;33m\u001B[0m\u001B[0m\n\u001B[1;32m----> 5\u001B[1;33m \u001B[0mtest_data_array\u001B[0m \u001B[1;33m=\u001B[0m \u001B[0mnp\u001B[0m\u001B[1;33m.\u001B[0m\u001B[0marray\u001B[0m\u001B[1;33m(\u001B[0m\u001B[1;33m[\u001B[0m\u001B[1;33m(\u001B[0m\u001B[0muser\u001B[0m\u001B[1;33m,\u001B[0m \u001B[1;33m-\u001B[0m\u001B[1;36m1\u001B[0m \u001B[1;32mif\u001B[0m \u001B[0mpunk\u001B[0m \u001B[1;32mis\u001B[0m \u001B[1;32mNone\u001B[0m \u001B[1;32melse\u001B[0m \u001B[0mpunk\u001B[0m\u001B[1;33m)\u001B[0m \u001B[1;32mfor\u001B[0m \u001B[0muser\u001B[0m\u001B[1;33m,\u001B[0m \u001B[0mpunk\u001B[0m \u001B[1;32min\u001B[0m \u001B[0mtest_data_sold\u001B[0m\u001B[1;33m]\u001B[0m\u001B[1;33m,\u001B[0m \u001B[0mdtype\u001B[0m\u001B[1;33m=\u001B[0m\u001B[0mnp\u001B[0m\u001B[1;33m.\u001B[0m\u001B[0mint64\u001B[0m\u001B[1;33m)\u001B[0m\u001B[1;33m\u001B[0m\u001B[1;33m\u001B[0m\u001B[0m\n\u001B[0m\u001B[0;32m      6\u001B[0m \u001B[1;33m\u001B[0m\u001B[0m\n\u001B[0;32m      7\u001B[0m \u001B[1;31m# Save the NumPy array as an .npz file\u001B[0m\u001B[1;33m\u001B[0m\u001B[1;33m\u001B[0m\u001B[1;33m\u001B[0m\u001B[0m\n",
      "\u001B[1;31mNameError\u001B[0m: name 'test_data_sold' is not defined"
     ]
    }
   ],
   "execution_count": 224
  },
  {
   "cell_type": "code",
   "source": [],
   "metadata": {
    "id": "d_0xRvIEvhRt",
    "ExecuteTime": {
     "end_time": "2024-08-11T14:01:53.401610Z",
     "start_time": "2024-08-11T14:01:53.390455Z"
    }
   },
   "outputs": [],
   "execution_count": 224
  },
  {
   "cell_type": "code",
   "source": [],
   "metadata": {
    "id": "nSKkprPLvhUv",
    "ExecuteTime": {
     "end_time": "2024-08-11T14:01:53.415493Z",
     "start_time": "2024-08-11T14:01:53.408069Z"
    }
   },
   "outputs": [],
   "execution_count": 224
  },
  {
   "cell_type": "code",
   "source": [],
   "metadata": {
    "id": "vudbM1zcvhXq",
    "ExecuteTime": {
     "end_time": "2024-08-11T14:01:53.448415Z",
     "start_time": "2024-08-11T14:01:53.435208Z"
    }
   },
   "outputs": [],
   "execution_count": 224
  },
  {
   "cell_type": "code",
   "source": [
    "import numpy as np\n",
    "\n",
    "# Convert test_data_sold to a NumPy array\n",
    "# Assuming all user IDs are integers, and None is replaced with a specific integer, e.g., -1\n",
    "test_data_array = np.array([(user, -1 if punk is None else punk) for user, punk in test_data_sold], dtype=np.int64)\n",
    "\n",
    "# Save the NumPy array as an .npz file\n",
    "np.savez('test_data_sold.npz', test_data=test_data_array)\n"
   ],
   "metadata": {
    "id": "lJ0cu4JnZZQ2",
    "ExecuteTime": {
     "end_time": "2024-08-11T14:01:53.492492Z",
     "start_time": "2024-08-11T14:01:53.479194Z"
    }
   },
   "outputs": [
    {
     "ename": "NameError",
     "evalue": "name 'test_data_sold' is not defined",
     "output_type": "error",
     "traceback": [
      "\u001B[1;31m---------------------------------------------------------------------------\u001B[0m",
      "\u001B[1;31mNameError\u001B[0m                                 Traceback (most recent call last)",
      "\u001B[1;32m<ipython-input-225-103f2b7fb45e>\u001B[0m in \u001B[0;36m<module>\u001B[1;34m\u001B[0m\n\u001B[0;32m      3\u001B[0m \u001B[1;31m# Convert test_data_sold to a NumPy array\u001B[0m\u001B[1;33m\u001B[0m\u001B[1;33m\u001B[0m\u001B[1;33m\u001B[0m\u001B[0m\n\u001B[0;32m      4\u001B[0m \u001B[1;31m# Assuming all user IDs are integers, and None is replaced with a specific integer, e.g., -1\u001B[0m\u001B[1;33m\u001B[0m\u001B[1;33m\u001B[0m\u001B[1;33m\u001B[0m\u001B[0m\n\u001B[1;32m----> 5\u001B[1;33m \u001B[0mtest_data_array\u001B[0m \u001B[1;33m=\u001B[0m \u001B[0mnp\u001B[0m\u001B[1;33m.\u001B[0m\u001B[0marray\u001B[0m\u001B[1;33m(\u001B[0m\u001B[1;33m[\u001B[0m\u001B[1;33m(\u001B[0m\u001B[0muser\u001B[0m\u001B[1;33m,\u001B[0m \u001B[1;33m-\u001B[0m\u001B[1;36m1\u001B[0m \u001B[1;32mif\u001B[0m \u001B[0mpunk\u001B[0m \u001B[1;32mis\u001B[0m \u001B[1;32mNone\u001B[0m \u001B[1;32melse\u001B[0m \u001B[0mpunk\u001B[0m\u001B[1;33m)\u001B[0m \u001B[1;32mfor\u001B[0m \u001B[0muser\u001B[0m\u001B[1;33m,\u001B[0m \u001B[0mpunk\u001B[0m \u001B[1;32min\u001B[0m \u001B[0mtest_data_sold\u001B[0m\u001B[1;33m]\u001B[0m\u001B[1;33m,\u001B[0m \u001B[0mdtype\u001B[0m\u001B[1;33m=\u001B[0m\u001B[0mnp\u001B[0m\u001B[1;33m.\u001B[0m\u001B[0mint64\u001B[0m\u001B[1;33m)\u001B[0m\u001B[1;33m\u001B[0m\u001B[1;33m\u001B[0m\u001B[0m\n\u001B[0m\u001B[0;32m      6\u001B[0m \u001B[1;33m\u001B[0m\u001B[0m\n\u001B[0;32m      7\u001B[0m \u001B[1;31m# Save the NumPy array as an .npz file\u001B[0m\u001B[1;33m\u001B[0m\u001B[1;33m\u001B[0m\u001B[1;33m\u001B[0m\u001B[0m\n",
      "\u001B[1;31mNameError\u001B[0m: name 'test_data_sold' is not defined"
     ]
    }
   ],
   "execution_count": 225
  },
  {
   "cell_type": "code",
   "source": [],
   "metadata": {
    "id": "QRBGSiSbTb1s",
    "ExecuteTime": {
     "end_time": "2024-08-11T14:01:53.505723Z",
     "start_time": "2024-08-11T14:01:53.497711Z"
    }
   },
   "outputs": [],
   "execution_count": 225
  },
  {
   "cell_type": "code",
   "source": [
    "import pandas as pd\n",
    "from scipy.sparse import csr_matrix, save_npz\n",
    "\n",
    "def convert_to_epoch(time_series):\n",
    "    \"\"\"Converts a pandas Series of datetime objects to epoch time.\"\"\"\n",
    "    return time_series.astype('int64') // 10**9\n",
    "\n",
    "def process_and_save(df, transaction_type, test_users_last_sold):\n",
    "    # Filter out transactions of the given type\n",
    "    filtered_df = df[df['TypeTransaction'] == transaction_type]\n",
    "\n",
    "    # Exclude last 'sold' transactions from the training set\n",
    "    if transaction_type != 'Sold':\n",
    "        filtered_df = filtered_df[~filtered_df.index.isin(test_users_last_sold)]\n",
    "\n",
    "    # Convert 'Date' to epoch time\n",
    "    filtered_df['EpochTime'] = convert_to_epoch(filtered_df['Date'])\n",
    "\n",
    "    # Group by 'user_id' and 'idCryptoPunk', selecting the last transaction time\n",
    "    last_transactions = filtered_df.groupby(['user_id', 'idCryptoPunk'])['EpochTime'].max().reset_index()\n",
    "\n",
    "    # Ensure user_id and idCryptoPunk are treated as categorical for proper indexing\n",
    "    last_transactions['user_id'] = pd.Categorical(last_transactions['user_id'])\n",
    "    last_transactions['idCryptoPunk'] = pd.Categorical(last_transactions['idCryptoPunk'])\n",
    "\n",
    "    # Create the sparse matrix\n",
    "    num_users = df['user_id'].nunique()\n",
    "    num_tokens = df['idCryptoPunk'].nunique()\n",
    "    sparse_matrix = csr_matrix((last_transactions['EpochTime'],\n",
    "                                (last_transactions['user_id'].cat.codes, last_transactions['idCryptoPunk'].cat.codes)),\n",
    "                               shape=(num_users, num_tokens))\n",
    "\n",
    "    # Save the CSR matrix\n",
    "    file_name = f\"{transaction_type.lower()}.npz\"\n",
    "    save_npz(file_name, sparse_matrix)\n",
    "    print(f\"CSR matrix saved as '{file_name}'\")\n",
    "\n",
    "# Load your DataFrame 'df' here\n",
    "# df = pd.read_csv(\"your_data.csv\")\n",
    "\n",
    "# Convert 'Date' column to datetime\n",
    "df['Date'] = pd.to_datetime(df['Date'])\n",
    "df['user_id'] = df['idPropietario'].astype('category').cat.codes + 1\n",
    "\n",
    "# Identify the last 'sold' transaction for each user\n",
    "last_sold_transactions = df[df['TypeTransaction'] == 'Sold'].groupby('user_id').apply(lambda x: x.nlargest(1, 'Date'))\n",
    "test_users_last_sold = last_sold_transactions.index.values\n",
    "\n",
    "# Apply the operation for each transaction type\n",
    "transaction_types = ['Sold', 'Bid', 'Offer Withdrawn', 'Offered', 'Bid Withdrawn']\n",
    "for transaction_type in transaction_types:\n",
    "    process_and_save(df, transaction_type, test_users_last_sold)\n"
   ],
   "metadata": {
    "id": "PA29_9HUTbnv",
    "ExecuteTime": {
     "end_time": "2024-08-11T14:01:53.551792Z",
     "start_time": "2024-08-11T14:01:53.533901Z"
    }
   },
   "outputs": [
    {
     "ename": "NameError",
     "evalue": "name 'df' is not defined",
     "output_type": "error",
     "traceback": [
      "\u001B[1;31m---------------------------------------------------------------------------\u001B[0m",
      "\u001B[1;31mNameError\u001B[0m                                 Traceback (most recent call last)",
      "\u001B[1;32m<ipython-input-226-869f5d056e90>\u001B[0m in \u001B[0;36m<module>\u001B[1;34m\u001B[0m\n\u001B[0;32m     40\u001B[0m \u001B[1;33m\u001B[0m\u001B[0m\n\u001B[0;32m     41\u001B[0m \u001B[1;31m# Convert 'Date' column to datetime\u001B[0m\u001B[1;33m\u001B[0m\u001B[1;33m\u001B[0m\u001B[1;33m\u001B[0m\u001B[0m\n\u001B[1;32m---> 42\u001B[1;33m \u001B[0mdf\u001B[0m\u001B[1;33m[\u001B[0m\u001B[1;34m'Date'\u001B[0m\u001B[1;33m]\u001B[0m \u001B[1;33m=\u001B[0m \u001B[0mpd\u001B[0m\u001B[1;33m.\u001B[0m\u001B[0mto_datetime\u001B[0m\u001B[1;33m(\u001B[0m\u001B[0mdf\u001B[0m\u001B[1;33m[\u001B[0m\u001B[1;34m'Date'\u001B[0m\u001B[1;33m]\u001B[0m\u001B[1;33m)\u001B[0m\u001B[1;33m\u001B[0m\u001B[1;33m\u001B[0m\u001B[0m\n\u001B[0m\u001B[0;32m     43\u001B[0m \u001B[0mdf\u001B[0m\u001B[1;33m[\u001B[0m\u001B[1;34m'user_id'\u001B[0m\u001B[1;33m]\u001B[0m \u001B[1;33m=\u001B[0m \u001B[0mdf\u001B[0m\u001B[1;33m[\u001B[0m\u001B[1;34m'idPropietario'\u001B[0m\u001B[1;33m]\u001B[0m\u001B[1;33m.\u001B[0m\u001B[0mastype\u001B[0m\u001B[1;33m(\u001B[0m\u001B[1;34m'category'\u001B[0m\u001B[1;33m)\u001B[0m\u001B[1;33m.\u001B[0m\u001B[0mcat\u001B[0m\u001B[1;33m.\u001B[0m\u001B[0mcodes\u001B[0m \u001B[1;33m+\u001B[0m \u001B[1;36m1\u001B[0m\u001B[1;33m\u001B[0m\u001B[1;33m\u001B[0m\u001B[0m\n\u001B[0;32m     44\u001B[0m \u001B[1;33m\u001B[0m\u001B[0m\n",
      "\u001B[1;31mNameError\u001B[0m: name 'df' is not defined"
     ]
    }
   ],
   "execution_count": 226
  },
  {
   "cell_type": "code",
   "source": [
    "import numpy as np\n",
    "\n",
    "# Save the array as npz\n",
    "np.savez(\"test_users_last_sold.npz\", test_users_last_sold=test_users_last_sold)\n"
   ],
   "metadata": {
    "id": "B3aTXdenVmlQ",
    "ExecuteTime": {
     "end_time": "2024-08-11T14:01:53.566599Z",
     "start_time": "2024-08-11T14:01:53.553232Z"
    }
   },
   "outputs": [
    {
     "ename": "NameError",
     "evalue": "name 'test_users_last_sold' is not defined",
     "output_type": "error",
     "traceback": [
      "\u001B[1;31m---------------------------------------------------------------------------\u001B[0m",
      "\u001B[1;31mNameError\u001B[0m                                 Traceback (most recent call last)",
      "\u001B[1;32m<ipython-input-227-d69283de9d1d>\u001B[0m in \u001B[0;36m<module>\u001B[1;34m\u001B[0m\n\u001B[0;32m      2\u001B[0m \u001B[1;33m\u001B[0m\u001B[0m\n\u001B[0;32m      3\u001B[0m \u001B[1;31m# Save the array as npz\u001B[0m\u001B[1;33m\u001B[0m\u001B[1;33m\u001B[0m\u001B[1;33m\u001B[0m\u001B[0m\n\u001B[1;32m----> 4\u001B[1;33m \u001B[0mnp\u001B[0m\u001B[1;33m.\u001B[0m\u001B[0msavez\u001B[0m\u001B[1;33m(\u001B[0m\u001B[1;34m\"test_users_last_sold.npz\"\u001B[0m\u001B[1;33m,\u001B[0m \u001B[0mtest_users_last_sold\u001B[0m\u001B[1;33m=\u001B[0m\u001B[0mtest_users_last_sold\u001B[0m\u001B[1;33m)\u001B[0m\u001B[1;33m\u001B[0m\u001B[1;33m\u001B[0m\u001B[0m\n\u001B[0m\u001B[0;32m      5\u001B[0m \u001B[1;33m\u001B[0m\u001B[0m\n",
      "\u001B[1;31mNameError\u001B[0m: name 'test_users_last_sold' is not defined"
     ]
    }
   ],
   "execution_count": 227
  },
  {
   "cell_type": "code",
   "source": [
    "predir = '/content/'\n",
    "behs = ['bid withdrawn.npz', 'offered.npz', 'offer withdrawn.npz', 'bid.npz', 'sold.npz']\n",
    "\n",
    "trnfile = predir\n",
    "tstfile = predir + 'test_users_last_sold.npz'\n"
   ],
   "metadata": {
    "id": "HH_oU71D2kot",
    "ExecuteTime": {
     "end_time": "2024-08-11T14:01:53.595424Z",
     "start_time": "2024-08-11T14:01:53.581752Z"
    }
   },
   "outputs": [],
   "execution_count": 228
  },
  {
   "cell_type": "code",
   "source": [
    "import scipy.sparse as sp\n",
    "import numpy as np"
   ],
   "metadata": {
    "id": "IcSaLXzS21wo",
    "ExecuteTime": {
     "end_time": "2024-08-11T14:01:53.611563Z",
     "start_time": "2024-08-11T14:01:53.603552Z"
    }
   },
   "outputs": [],
   "execution_count": 229
  },
  {
   "cell_type": "code",
   "source": [
    "def timeProcess(trnMats):\n",
    "\tmi = 1e15\n",
    "\tma = 0\n",
    "\tfor i in range(len(trnMats)):\n",
    "\t\tminn = np.min(trnMats[i].data)\n",
    "\t\tmaxx = np.max(trnMats[i].data)\n",
    "\t\tmi = min(mi, minn)\n",
    "\t\tma = max(ma, maxx)\n",
    "\tmaxTime = 0\n",
    "\tfor i in range(len(trnMats)):\n",
    "\t\tnewData = ((trnMats[i].data - mi) / (3600*24*1)).astype(np.int32)\n",
    "\t\tmaxTime = max(np.max(newData), maxTime)\n",
    "\t\ttrnMats[i] = csr_matrix((newData, trnMats[i].indices, trnMats[i].indptr), shape=trnMats[i].shape)\n",
    "\tprint('MAX TIME', maxTime)\n",
    "\treturn trnMats, maxTime + 1"
   ],
   "metadata": {
    "id": "ASnk9G1q25ES",
    "ExecuteTime": {
     "end_time": "2024-08-11T14:01:53.639875Z",
     "start_time": "2024-08-11T14:01:53.625806Z"
    }
   },
   "outputs": [],
   "execution_count": 230
  },
  {
   "cell_type": "code",
   "source": [
    "def LoadData():\n",
    "    trnMats = []\n",
    "    for i in range(len(behs)):\n",
    "        beh = behs[i]\n",
    "        path = trnfile + beh\n",
    "        with open(path, 'rb') as fs:\n",
    "            mat = sp.load_npz(fs)\n",
    "        trnMats.append(mat)\n",
    "\n",
    "    # Process labels for the 'buy' scenario, assuming it corresponds to the last behavior\n",
    "    trnLabel = 1 * (trnMats[-1] != 0) if trnMats else None\n",
    "\n",
    "    # Placeholder for your actual time processing function\n",
    "    trnMats, maxTime = timeProcess(trnMats)\n",
    "\n",
    "    # Test set\n",
    "    with np.load(tstfile, allow_pickle=True) as data:\n",
    "        tstInt1 = data['test_users_last_sold']\n",
    "\n",
    "\n",
    "    # Determine the unique user IDs\n",
    "    user_ids = set(pair[0] for pair in tstInt1)\n",
    "\n",
    "    # Create a list with user purchase status\n",
    "    max_user_id = max(user_ids)\n",
    "    user_purchases = [None] * (max_user_id + 1)\n",
    "\n",
    "    for user_id in user_ids:\n",
    "        user_purchases[user_id] = user_id\n",
    "\n",
    "    tstInt = user_purchases\n",
    "    tstStat = (tstInt!=None)\n",
    "    tstUsrs = np.reshape(np.argwhere(tstStat), [-1])\n",
    "\n",
    "\n",
    "\n",
    "    return trnMats, tstInt, trnLabel, tstUsrs, len(behs), maxTime"
   ],
   "metadata": {
    "id": "7aKsyCLZ2fNN",
    "ExecuteTime": {
     "end_time": "2024-08-11T14:01:53.671612Z",
     "start_time": "2024-08-11T14:01:53.663987Z"
    }
   },
   "outputs": [],
   "execution_count": 231
  },
  {
   "cell_type": "code",
   "source": [
    "trnMats = []\n",
    "for i in range(len(behs)):\n",
    "    beh = behs[i]\n",
    "    path = trnfile + beh\n",
    "    with open(path, 'rb') as fs:\n",
    "        mat = sp.load_npz(fs)\n",
    "    trnMats.append(mat)"
   ],
   "metadata": {
    "id": "1vKUAoBZfnjx",
    "ExecuteTime": {
     "end_time": "2024-08-11T14:01:53.701607Z",
     "start_time": "2024-08-11T14:01:53.681674Z"
    }
   },
   "outputs": [
    {
     "ename": "FileNotFoundError",
     "evalue": "[Errno 2] No such file or directory: '/content/bid withdrawn.npz'",
     "output_type": "error",
     "traceback": [
      "\u001B[1;31m---------------------------------------------------------------------------\u001B[0m",
      "\u001B[1;31mFileNotFoundError\u001B[0m                         Traceback (most recent call last)",
      "\u001B[1;32m<ipython-input-232-729a02bcc2c7>\u001B[0m in \u001B[0;36m<module>\u001B[1;34m\u001B[0m\n\u001B[0;32m      3\u001B[0m     \u001B[0mbeh\u001B[0m \u001B[1;33m=\u001B[0m \u001B[0mbehs\u001B[0m\u001B[1;33m[\u001B[0m\u001B[0mi\u001B[0m\u001B[1;33m]\u001B[0m\u001B[1;33m\u001B[0m\u001B[1;33m\u001B[0m\u001B[0m\n\u001B[0;32m      4\u001B[0m     \u001B[0mpath\u001B[0m \u001B[1;33m=\u001B[0m \u001B[0mtrnfile\u001B[0m \u001B[1;33m+\u001B[0m \u001B[0mbeh\u001B[0m\u001B[1;33m\u001B[0m\u001B[1;33m\u001B[0m\u001B[0m\n\u001B[1;32m----> 5\u001B[1;33m     \u001B[1;32mwith\u001B[0m \u001B[0mopen\u001B[0m\u001B[1;33m(\u001B[0m\u001B[0mpath\u001B[0m\u001B[1;33m,\u001B[0m \u001B[1;34m'rb'\u001B[0m\u001B[1;33m)\u001B[0m \u001B[1;32mas\u001B[0m \u001B[0mfs\u001B[0m\u001B[1;33m:\u001B[0m\u001B[1;33m\u001B[0m\u001B[1;33m\u001B[0m\u001B[0m\n\u001B[0m\u001B[0;32m      6\u001B[0m         \u001B[0mmat\u001B[0m \u001B[1;33m=\u001B[0m \u001B[0msp\u001B[0m\u001B[1;33m.\u001B[0m\u001B[0mload_npz\u001B[0m\u001B[1;33m(\u001B[0m\u001B[0mfs\u001B[0m\u001B[1;33m)\u001B[0m\u001B[1;33m\u001B[0m\u001B[1;33m\u001B[0m\u001B[0m\n\u001B[0;32m      7\u001B[0m     \u001B[0mtrnMats\u001B[0m\u001B[1;33m.\u001B[0m\u001B[0mappend\u001B[0m\u001B[1;33m(\u001B[0m\u001B[0mmat\u001B[0m\u001B[1;33m)\u001B[0m\u001B[1;33m\u001B[0m\u001B[1;33m\u001B[0m\u001B[0m\n",
      "\u001B[1;31mFileNotFoundError\u001B[0m: [Errno 2] No such file or directory: '/content/bid withdrawn.npz'"
     ]
    }
   ],
   "execution_count": 232
  },
  {
   "cell_type": "code",
   "source": [
    "LoadData()"
   ],
   "metadata": {
    "id": "m5VwfCUP27K7",
    "ExecuteTime": {
     "end_time": "2024-08-11T14:01:53.703946Z",
     "start_time": "2024-08-11T14:01:53.701607Z"
    }
   },
   "outputs": [],
   "execution_count": null
  },
  {
   "cell_type": "code",
   "source": [
    "uids = trnMats[:, 0]  # User IDs\n",
    "iids = trnMats[:, 1]  # Item IDs"
   ],
   "metadata": {
    "id": "4V1mFO1dfTRu",
    "ExecuteTime": {
     "end_time": "2024-08-11T14:01:53.762670Z",
     "start_time": "2024-08-11T14:01:53.746554Z"
    }
   },
   "outputs": [
    {
     "ename": "TypeError",
     "evalue": "list indices must be integers or slices, not tuple",
     "output_type": "error",
     "traceback": [
      "\u001B[1;31m---------------------------------------------------------------------------\u001B[0m",
      "\u001B[1;31mTypeError\u001B[0m                                 Traceback (most recent call last)",
      "\u001B[1;32m<ipython-input-233-8a9980d38080>\u001B[0m in \u001B[0;36m<module>\u001B[1;34m\u001B[0m\n\u001B[1;32m----> 1\u001B[1;33m \u001B[0muids\u001B[0m \u001B[1;33m=\u001B[0m \u001B[0mtrnMats\u001B[0m\u001B[1;33m[\u001B[0m\u001B[1;33m:\u001B[0m\u001B[1;33m,\u001B[0m \u001B[1;36m0\u001B[0m\u001B[1;33m]\u001B[0m  \u001B[1;31m# User IDs\u001B[0m\u001B[1;33m\u001B[0m\u001B[1;33m\u001B[0m\u001B[0m\n\u001B[0m\u001B[0;32m      2\u001B[0m \u001B[0miids\u001B[0m \u001B[1;33m=\u001B[0m \u001B[0mtrnMats\u001B[0m\u001B[1;33m[\u001B[0m\u001B[1;33m:\u001B[0m\u001B[1;33m,\u001B[0m \u001B[1;36m1\u001B[0m\u001B[1;33m]\u001B[0m  \u001B[1;31m# Item IDs\u001B[0m\u001B[1;33m\u001B[0m\u001B[1;33m\u001B[0m\u001B[0m\n",
      "\u001B[1;31mTypeError\u001B[0m: list indices must be integers or slices, not tuple"
     ]
    }
   ],
   "execution_count": 233
  },
  {
   "cell_type": "code",
   "source": [
    "import scipy.sparse as sp\n",
    "\n",
    "def extract_user_item_pairs(trnMats):\n",
    "    user_item_pairs = []\n",
    "    for mat in trnMats:\n",
    "        # Find the indices of non-zero entries in the sparse matrix.\n",
    "        user_indices, item_indices = mat.nonzero()\n",
    "\n",
    "        # Pair each user index with its corresponding item index.\n",
    "        pairs = list(zip(user_indices, item_indices))\n",
    "        user_item_pairs.extend(pairs)\n",
    "\n",
    "    return user_item_pairs\n",
    "\n",
    "# Assuming trnMats is populated as shown previously\n",
    "user_item_pairs = extract_user_item_pairs(trnMats)\n",
    "\n",
    "# If you need to transform these pairs into tensors for PyTorch\n",
    "import torch\n",
    "user_ids, item_ids = zip(*user_item_pairs)  # Unzip the pairs\n",
    "user_ids_tensor = torch.tensor(user_ids, dtype=torch.long)  # Convert to tensor\n",
    "item_ids_tensor = torch.tensor(item_ids, dtype=torch.long)  # Convert to tensor\n"
   ],
   "metadata": {
    "id": "NXlEvYpDgFSy",
    "ExecuteTime": {
     "end_time": "2024-08-11T14:01:53.790815Z",
     "start_time": "2024-08-11T14:01:53.771851Z"
    }
   },
   "outputs": [
    {
     "ename": "ModuleNotFoundError",
     "evalue": "No module named 'torch'",
     "output_type": "error",
     "traceback": [
      "\u001B[1;31m---------------------------------------------------------------------------\u001B[0m",
      "\u001B[1;31mModuleNotFoundError\u001B[0m                       Traceback (most recent call last)",
      "\u001B[1;32m<ipython-input-234-27f44f394f66>\u001B[0m in \u001B[0;36m<module>\u001B[1;34m\u001B[0m\n\u001B[0;32m     17\u001B[0m \u001B[1;33m\u001B[0m\u001B[0m\n\u001B[0;32m     18\u001B[0m \u001B[1;31m# If you need to transform these pairs into tensors for PyTorch\u001B[0m\u001B[1;33m\u001B[0m\u001B[1;33m\u001B[0m\u001B[1;33m\u001B[0m\u001B[0m\n\u001B[1;32m---> 19\u001B[1;33m \u001B[1;32mimport\u001B[0m \u001B[0mtorch\u001B[0m\u001B[1;33m\u001B[0m\u001B[1;33m\u001B[0m\u001B[0m\n\u001B[0m\u001B[0;32m     20\u001B[0m \u001B[0muser_ids\u001B[0m\u001B[1;33m,\u001B[0m \u001B[0mitem_ids\u001B[0m \u001B[1;33m=\u001B[0m \u001B[0mzip\u001B[0m\u001B[1;33m(\u001B[0m\u001B[1;33m*\u001B[0m\u001B[0muser_item_pairs\u001B[0m\u001B[1;33m)\u001B[0m  \u001B[1;31m# Unzip the pairs\u001B[0m\u001B[1;33m\u001B[0m\u001B[1;33m\u001B[0m\u001B[0m\n\u001B[0;32m     21\u001B[0m \u001B[0muser_ids_tensor\u001B[0m \u001B[1;33m=\u001B[0m \u001B[0mtorch\u001B[0m\u001B[1;33m.\u001B[0m\u001B[0mtensor\u001B[0m\u001B[1;33m(\u001B[0m\u001B[0muser_ids\u001B[0m\u001B[1;33m,\u001B[0m \u001B[0mdtype\u001B[0m\u001B[1;33m=\u001B[0m\u001B[0mtorch\u001B[0m\u001B[1;33m.\u001B[0m\u001B[0mlong\u001B[0m\u001B[1;33m)\u001B[0m  \u001B[1;31m# Convert to tensor\u001B[0m\u001B[1;33m\u001B[0m\u001B[1;33m\u001B[0m\u001B[0m\n",
      "\u001B[1;31mModuleNotFoundError\u001B[0m: No module named 'torch'"
     ]
    }
   ],
   "execution_count": 234
  },
  {
   "cell_type": "code",
   "source": [
    "item_ids_tensor"
   ],
   "metadata": {
    "id": "bSrgFQRNgIxk",
    "ExecuteTime": {
     "end_time": "2024-08-11T14:01:53.807435Z",
     "start_time": "2024-08-11T14:01:53.791834Z"
    }
   },
   "outputs": [
    {
     "ename": "NameError",
     "evalue": "name 'item_ids_tensor' is not defined",
     "output_type": "error",
     "traceback": [
      "\u001B[1;31m---------------------------------------------------------------------------\u001B[0m",
      "\u001B[1;31mNameError\u001B[0m                                 Traceback (most recent call last)",
      "\u001B[1;32m<ipython-input-235-943a603cbeab>\u001B[0m in \u001B[0;36m<module>\u001B[1;34m\u001B[0m\n\u001B[1;32m----> 1\u001B[1;33m \u001B[0mitem_ids_tensor\u001B[0m\u001B[1;33m\u001B[0m\u001B[1;33m\u001B[0m\u001B[0m\n\u001B[0m",
      "\u001B[1;31mNameError\u001B[0m: name 'item_ids_tensor' is not defined"
     ]
    }
   ],
   "execution_count": 235
  },
  {
   "cell_type": "code",
   "source": [
    "LoadData()[1]"
   ],
   "metadata": {
    "id": "-BtuLcSZzjNd",
    "ExecuteTime": {
     "end_time": "2024-08-11T14:01:53.836442Z",
     "start_time": "2024-08-11T14:01:53.821884Z"
    }
   },
   "outputs": [
    {
     "ename": "FileNotFoundError",
     "evalue": "[Errno 2] No such file or directory: '/content/bid withdrawn.npz'",
     "output_type": "error",
     "traceback": [
      "\u001B[1;31m---------------------------------------------------------------------------\u001B[0m",
      "\u001B[1;31mFileNotFoundError\u001B[0m                         Traceback (most recent call last)",
      "\u001B[1;32m<ipython-input-236-a1300408301b>\u001B[0m in \u001B[0;36m<module>\u001B[1;34m\u001B[0m\n\u001B[1;32m----> 1\u001B[1;33m \u001B[0mLoadData\u001B[0m\u001B[1;33m(\u001B[0m\u001B[1;33m)\u001B[0m\u001B[1;33m[\u001B[0m\u001B[1;36m1\u001B[0m\u001B[1;33m]\u001B[0m\u001B[1;33m\u001B[0m\u001B[1;33m\u001B[0m\u001B[0m\n\u001B[0m",
      "\u001B[1;32m<ipython-input-231-ef7c95999bec>\u001B[0m in \u001B[0;36mLoadData\u001B[1;34m()\u001B[0m\n\u001B[0;32m      4\u001B[0m         \u001B[0mbeh\u001B[0m \u001B[1;33m=\u001B[0m \u001B[0mbehs\u001B[0m\u001B[1;33m[\u001B[0m\u001B[0mi\u001B[0m\u001B[1;33m]\u001B[0m\u001B[1;33m\u001B[0m\u001B[1;33m\u001B[0m\u001B[0m\n\u001B[0;32m      5\u001B[0m         \u001B[0mpath\u001B[0m \u001B[1;33m=\u001B[0m \u001B[0mtrnfile\u001B[0m \u001B[1;33m+\u001B[0m \u001B[0mbeh\u001B[0m\u001B[1;33m\u001B[0m\u001B[1;33m\u001B[0m\u001B[0m\n\u001B[1;32m----> 6\u001B[1;33m         \u001B[1;32mwith\u001B[0m \u001B[0mopen\u001B[0m\u001B[1;33m(\u001B[0m\u001B[0mpath\u001B[0m\u001B[1;33m,\u001B[0m \u001B[1;34m'rb'\u001B[0m\u001B[1;33m)\u001B[0m \u001B[1;32mas\u001B[0m \u001B[0mfs\u001B[0m\u001B[1;33m:\u001B[0m\u001B[1;33m\u001B[0m\u001B[1;33m\u001B[0m\u001B[0m\n\u001B[0m\u001B[0;32m      7\u001B[0m             \u001B[0mmat\u001B[0m \u001B[1;33m=\u001B[0m \u001B[0msp\u001B[0m\u001B[1;33m.\u001B[0m\u001B[0mload_npz\u001B[0m\u001B[1;33m(\u001B[0m\u001B[0mfs\u001B[0m\u001B[1;33m)\u001B[0m\u001B[1;33m\u001B[0m\u001B[1;33m\u001B[0m\u001B[0m\n\u001B[0;32m      8\u001B[0m         \u001B[0mtrnMats\u001B[0m\u001B[1;33m.\u001B[0m\u001B[0mappend\u001B[0m\u001B[1;33m(\u001B[0m\u001B[0mmat\u001B[0m\u001B[1;33m)\u001B[0m\u001B[1;33m\u001B[0m\u001B[1;33m\u001B[0m\u001B[0m\n",
      "\u001B[1;31mFileNotFoundError\u001B[0m: [Errno 2] No such file or directory: '/content/bid withdrawn.npz'"
     ]
    }
   ],
   "execution_count": 236
  },
  {
   "cell_type": "code",
   "source": [
    "with np.load(tstfile, allow_pickle=True) as data:\n",
    "    tstInt = data['test_users_last_sold']"
   ],
   "metadata": {
    "id": "cMFwlBgp2fjs",
    "ExecuteTime": {
     "end_time": "2024-08-11T14:01:53.891956Z",
     "start_time": "2024-08-11T14:01:53.879382Z"
    }
   },
   "outputs": [
    {
     "ename": "FileNotFoundError",
     "evalue": "[Errno 2] No such file or directory: '/content/test_users_last_sold.npz'",
     "output_type": "error",
     "traceback": [
      "\u001B[1;31m---------------------------------------------------------------------------\u001B[0m",
      "\u001B[1;31mFileNotFoundError\u001B[0m                         Traceback (most recent call last)",
      "\u001B[1;32m<ipython-input-237-9637ce407437>\u001B[0m in \u001B[0;36m<module>\u001B[1;34m\u001B[0m\n\u001B[1;32m----> 1\u001B[1;33m \u001B[1;32mwith\u001B[0m \u001B[0mnp\u001B[0m\u001B[1;33m.\u001B[0m\u001B[0mload\u001B[0m\u001B[1;33m(\u001B[0m\u001B[0mtstfile\u001B[0m\u001B[1;33m,\u001B[0m \u001B[0mallow_pickle\u001B[0m\u001B[1;33m=\u001B[0m\u001B[1;32mTrue\u001B[0m\u001B[1;33m)\u001B[0m \u001B[1;32mas\u001B[0m \u001B[0mdata\u001B[0m\u001B[1;33m:\u001B[0m\u001B[1;33m\u001B[0m\u001B[1;33m\u001B[0m\u001B[0m\n\u001B[0m\u001B[0;32m      2\u001B[0m     \u001B[0mtstInt\u001B[0m \u001B[1;33m=\u001B[0m \u001B[0mdata\u001B[0m\u001B[1;33m[\u001B[0m\u001B[1;34m'test_users_last_sold'\u001B[0m\u001B[1;33m]\u001B[0m\u001B[1;33m\u001B[0m\u001B[1;33m\u001B[0m\u001B[0m\n",
      "\u001B[1;32m~\\PycharmProjects\\cs61b\\.venv\\lib\\site-packages\\numpy\\lib\\npyio.py\u001B[0m in \u001B[0;36mload\u001B[1;34m(file, mmap_mode, allow_pickle, fix_imports, encoding)\u001B[0m\n\u001B[0;32m    414\u001B[0m             \u001B[0mown_fid\u001B[0m \u001B[1;33m=\u001B[0m \u001B[1;32mFalse\u001B[0m\u001B[1;33m\u001B[0m\u001B[1;33m\u001B[0m\u001B[0m\n\u001B[0;32m    415\u001B[0m         \u001B[1;32melse\u001B[0m\u001B[1;33m:\u001B[0m\u001B[1;33m\u001B[0m\u001B[1;33m\u001B[0m\u001B[0m\n\u001B[1;32m--> 416\u001B[1;33m             \u001B[0mfid\u001B[0m \u001B[1;33m=\u001B[0m \u001B[0mstack\u001B[0m\u001B[1;33m.\u001B[0m\u001B[0menter_context\u001B[0m\u001B[1;33m(\u001B[0m\u001B[0mopen\u001B[0m\u001B[1;33m(\u001B[0m\u001B[0mos_fspath\u001B[0m\u001B[1;33m(\u001B[0m\u001B[0mfile\u001B[0m\u001B[1;33m)\u001B[0m\u001B[1;33m,\u001B[0m \u001B[1;34m\"rb\"\u001B[0m\u001B[1;33m)\u001B[0m\u001B[1;33m)\u001B[0m\u001B[1;33m\u001B[0m\u001B[1;33m\u001B[0m\u001B[0m\n\u001B[0m\u001B[0;32m    417\u001B[0m             \u001B[0mown_fid\u001B[0m \u001B[1;33m=\u001B[0m \u001B[1;32mTrue\u001B[0m\u001B[1;33m\u001B[0m\u001B[1;33m\u001B[0m\u001B[0m\n\u001B[0;32m    418\u001B[0m \u001B[1;33m\u001B[0m\u001B[0m\n",
      "\u001B[1;31mFileNotFoundError\u001B[0m: [Errno 2] No such file or directory: '/content/test_users_last_sold.npz'"
     ]
    }
   ],
   "execution_count": 237
  },
  {
   "cell_type": "code",
   "source": [
    "len(tstInt)"
   ],
   "metadata": {
    "id": "UD1BHk_y2-T4",
    "ExecuteTime": {
     "end_time": "2024-08-11T14:01:53.919476Z",
     "start_time": "2024-08-11T14:01:53.908798Z"
    }
   },
   "outputs": [
    {
     "ename": "NameError",
     "evalue": "name 'tstInt' is not defined",
     "output_type": "error",
     "traceback": [
      "\u001B[1;31m---------------------------------------------------------------------------\u001B[0m",
      "\u001B[1;31mNameError\u001B[0m                                 Traceback (most recent call last)",
      "\u001B[1;32m<ipython-input-238-72fdc733a916>\u001B[0m in \u001B[0;36m<module>\u001B[1;34m\u001B[0m\n\u001B[1;32m----> 1\u001B[1;33m \u001B[0mlen\u001B[0m\u001B[1;33m(\u001B[0m\u001B[0mtstInt\u001B[0m\u001B[1;33m)\u001B[0m\u001B[1;33m\u001B[0m\u001B[1;33m\u001B[0m\u001B[0m\n\u001B[0m",
      "\u001B[1;31mNameError\u001B[0m: name 'tstInt' is not defined"
     ]
    }
   ],
   "execution_count": 238
  },
  {
   "cell_type": "code",
   "source": [
    "tstStat = (tstInt!=None)\n",
    "tstStat"
   ],
   "metadata": {
    "id": "9nDAksyJ4Cw2",
    "ExecuteTime": {
     "end_time": "2024-08-11T14:01:53.975618Z",
     "start_time": "2024-08-11T14:01:53.962510Z"
    }
   },
   "outputs": [
    {
     "ename": "NameError",
     "evalue": "name 'tstInt' is not defined",
     "output_type": "error",
     "traceback": [
      "\u001B[1;31m---------------------------------------------------------------------------\u001B[0m",
      "\u001B[1;31mNameError\u001B[0m                                 Traceback (most recent call last)",
      "\u001B[1;32m<ipython-input-239-b94017270cba>\u001B[0m in \u001B[0;36m<module>\u001B[1;34m\u001B[0m\n\u001B[1;32m----> 1\u001B[1;33m \u001B[0mtstStat\u001B[0m \u001B[1;33m=\u001B[0m \u001B[1;33m(\u001B[0m\u001B[0mtstInt\u001B[0m\u001B[1;33m!=\u001B[0m\u001B[1;32mNone\u001B[0m\u001B[1;33m)\u001B[0m\u001B[1;33m\u001B[0m\u001B[1;33m\u001B[0m\u001B[0m\n\u001B[0m\u001B[0;32m      2\u001B[0m \u001B[0mtstStat\u001B[0m\u001B[1;33m\u001B[0m\u001B[1;33m\u001B[0m\u001B[0m\n",
      "\u001B[1;31mNameError\u001B[0m: name 'tstInt' is not defined"
     ]
    }
   ],
   "execution_count": 239
  },
  {
   "cell_type": "code",
   "source": [
    "# Test set\n",
    "with np.load(tstfile, allow_pickle=True) as data:\n",
    "    tstInt1 = data['test_users_last_sold']\n",
    "\n",
    "\n",
    "# Determine the unique user IDs\n",
    "user_ids = set(pair[0] for pair in tstInt1)\n",
    "\n",
    "# Create a list with user purchase status\n",
    "max_user_id = max(user_ids)\n",
    "user_purchases = [None] * (max_user_id + 1)\n",
    "\n",
    "for user_id in user_ids:\n",
    "    user_purchases[user_id] = user_id\n",
    "\n",
    "tstInt = user_purchases\n",
    "tstStat = [user_id for user_id in user_purchases if user_id is not None]"
   ],
   "metadata": {
    "id": "gOsjY9HC-8pf",
    "ExecuteTime": {
     "end_time": "2024-08-11T14:01:54.031625Z",
     "start_time": "2024-08-11T14:01:54.011657Z"
    }
   },
   "outputs": [
    {
     "ename": "FileNotFoundError",
     "evalue": "[Errno 2] No such file or directory: '/content/test_users_last_sold.npz'",
     "output_type": "error",
     "traceback": [
      "\u001B[1;31m---------------------------------------------------------------------------\u001B[0m",
      "\u001B[1;31mFileNotFoundError\u001B[0m                         Traceback (most recent call last)",
      "\u001B[1;32m<ipython-input-240-1d97bceb9b35>\u001B[0m in \u001B[0;36m<module>\u001B[1;34m\u001B[0m\n\u001B[0;32m      1\u001B[0m \u001B[1;31m# Test set\u001B[0m\u001B[1;33m\u001B[0m\u001B[1;33m\u001B[0m\u001B[1;33m\u001B[0m\u001B[0m\n\u001B[1;32m----> 2\u001B[1;33m \u001B[1;32mwith\u001B[0m \u001B[0mnp\u001B[0m\u001B[1;33m.\u001B[0m\u001B[0mload\u001B[0m\u001B[1;33m(\u001B[0m\u001B[0mtstfile\u001B[0m\u001B[1;33m,\u001B[0m \u001B[0mallow_pickle\u001B[0m\u001B[1;33m=\u001B[0m\u001B[1;32mTrue\u001B[0m\u001B[1;33m)\u001B[0m \u001B[1;32mas\u001B[0m \u001B[0mdata\u001B[0m\u001B[1;33m:\u001B[0m\u001B[1;33m\u001B[0m\u001B[1;33m\u001B[0m\u001B[0m\n\u001B[0m\u001B[0;32m      3\u001B[0m     \u001B[0mtstInt1\u001B[0m \u001B[1;33m=\u001B[0m \u001B[0mdata\u001B[0m\u001B[1;33m[\u001B[0m\u001B[1;34m'test_users_last_sold'\u001B[0m\u001B[1;33m]\u001B[0m\u001B[1;33m\u001B[0m\u001B[1;33m\u001B[0m\u001B[0m\n\u001B[0;32m      4\u001B[0m \u001B[1;33m\u001B[0m\u001B[0m\n\u001B[0;32m      5\u001B[0m \u001B[1;33m\u001B[0m\u001B[0m\n",
      "\u001B[1;32m~\\PycharmProjects\\cs61b\\.venv\\lib\\site-packages\\numpy\\lib\\npyio.py\u001B[0m in \u001B[0;36mload\u001B[1;34m(file, mmap_mode, allow_pickle, fix_imports, encoding)\u001B[0m\n\u001B[0;32m    414\u001B[0m             \u001B[0mown_fid\u001B[0m \u001B[1;33m=\u001B[0m \u001B[1;32mFalse\u001B[0m\u001B[1;33m\u001B[0m\u001B[1;33m\u001B[0m\u001B[0m\n\u001B[0;32m    415\u001B[0m         \u001B[1;32melse\u001B[0m\u001B[1;33m:\u001B[0m\u001B[1;33m\u001B[0m\u001B[1;33m\u001B[0m\u001B[0m\n\u001B[1;32m--> 416\u001B[1;33m             \u001B[0mfid\u001B[0m \u001B[1;33m=\u001B[0m \u001B[0mstack\u001B[0m\u001B[1;33m.\u001B[0m\u001B[0menter_context\u001B[0m\u001B[1;33m(\u001B[0m\u001B[0mopen\u001B[0m\u001B[1;33m(\u001B[0m\u001B[0mos_fspath\u001B[0m\u001B[1;33m(\u001B[0m\u001B[0mfile\u001B[0m\u001B[1;33m)\u001B[0m\u001B[1;33m,\u001B[0m \u001B[1;34m\"rb\"\u001B[0m\u001B[1;33m)\u001B[0m\u001B[1;33m)\u001B[0m\u001B[1;33m\u001B[0m\u001B[1;33m\u001B[0m\u001B[0m\n\u001B[0m\u001B[0;32m    417\u001B[0m             \u001B[0mown_fid\u001B[0m \u001B[1;33m=\u001B[0m \u001B[1;32mTrue\u001B[0m\u001B[1;33m\u001B[0m\u001B[1;33m\u001B[0m\u001B[0m\n\u001B[0;32m    418\u001B[0m \u001B[1;33m\u001B[0m\u001B[0m\n",
      "\u001B[1;31mFileNotFoundError\u001B[0m: [Errno 2] No such file or directory: '/content/test_users_last_sold.npz'"
     ]
    }
   ],
   "execution_count": 240
  },
  {
   "cell_type": "code",
   "source": [
    "tstStat"
   ],
   "metadata": {
    "id": "8NnptBQe_A9T",
    "ExecuteTime": {
     "end_time": "2024-08-11T14:01:54.086742Z",
     "start_time": "2024-08-11T14:01:54.066716Z"
    }
   },
   "outputs": [
    {
     "ename": "NameError",
     "evalue": "name 'tstStat' is not defined",
     "output_type": "error",
     "traceback": [
      "\u001B[1;31m---------------------------------------------------------------------------\u001B[0m",
      "\u001B[1;31mNameError\u001B[0m                                 Traceback (most recent call last)",
      "\u001B[1;32m<ipython-input-241-954307b30a32>\u001B[0m in \u001B[0;36m<module>\u001B[1;34m\u001B[0m\n\u001B[1;32m----> 1\u001B[1;33m \u001B[0mtstStat\u001B[0m\u001B[1;33m\u001B[0m\u001B[1;33m\u001B[0m\u001B[0m\n\u001B[0m",
      "\u001B[1;31mNameError\u001B[0m: name 'tstStat' is not defined"
     ]
    }
   ],
   "execution_count": 241
  },
  {
   "cell_type": "code",
   "source": [
    "tstInt[-5:]"
   ],
   "metadata": {
    "id": "S4RD2Fx3BboS",
    "ExecuteTime": {
     "end_time": "2024-08-11T14:01:54.131545Z",
     "start_time": "2024-08-11T14:01:54.117961Z"
    }
   },
   "outputs": [
    {
     "ename": "NameError",
     "evalue": "name 'tstInt' is not defined",
     "output_type": "error",
     "traceback": [
      "\u001B[1;31m---------------------------------------------------------------------------\u001B[0m",
      "\u001B[1;31mNameError\u001B[0m                                 Traceback (most recent call last)",
      "\u001B[1;32m<ipython-input-242-ae9483a25a0f>\u001B[0m in \u001B[0;36m<module>\u001B[1;34m\u001B[0m\n\u001B[1;32m----> 1\u001B[1;33m \u001B[0mtstInt\u001B[0m\u001B[1;33m[\u001B[0m\u001B[1;33m-\u001B[0m\u001B[1;36m5\u001B[0m\u001B[1;33m:\u001B[0m\u001B[1;33m]\u001B[0m\u001B[1;33m\u001B[0m\u001B[1;33m\u001B[0m\u001B[0m\n\u001B[0m",
      "\u001B[1;31mNameError\u001B[0m: name 'tstInt' is not defined"
     ]
    }
   ],
   "execution_count": 242
  },
  {
   "cell_type": "code",
   "source": [
    "len(tstInt)"
   ],
   "metadata": {
    "id": "nlELotqZ-_XD",
    "ExecuteTime": {
     "end_time": "2024-08-11T14:01:54.171503Z",
     "start_time": "2024-08-11T14:01:54.159406Z"
    }
   },
   "outputs": [
    {
     "ename": "NameError",
     "evalue": "name 'tstInt' is not defined",
     "output_type": "error",
     "traceback": [
      "\u001B[1;31m---------------------------------------------------------------------------\u001B[0m",
      "\u001B[1;31mNameError\u001B[0m                                 Traceback (most recent call last)",
      "\u001B[1;32m<ipython-input-243-72fdc733a916>\u001B[0m in \u001B[0;36m<module>\u001B[1;34m\u001B[0m\n\u001B[1;32m----> 1\u001B[1;33m \u001B[0mlen\u001B[0m\u001B[1;33m(\u001B[0m\u001B[0mtstInt\u001B[0m\u001B[1;33m)\u001B[0m\u001B[1;33m\u001B[0m\u001B[1;33m\u001B[0m\u001B[0m\n\u001B[0m",
      "\u001B[1;31mNameError\u001B[0m: name 'tstInt' is not defined"
     ]
    }
   ],
   "execution_count": 243
  },
  {
   "cell_type": "code",
   "source": [
    "import pickle\n",
    "# Test set\n",
    "with np.load('/content/test_users_last_sold.npz', allow_pickle=True) as data:\n",
    "    tstInt1 = data['test_users_last_sold']\n",
    "\n",
    "\n",
    "# Determine the unique user IDs\n",
    "user_ids = set(pair[0] for pair in tstInt1)"
   ],
   "metadata": {
    "id": "RxOp28Zw0POx",
    "ExecuteTime": {
     "end_time": "2024-08-11T14:01:54.198854Z",
     "start_time": "2024-08-11T14:01:54.188099Z"
    }
   },
   "outputs": [
    {
     "ename": "FileNotFoundError",
     "evalue": "[Errno 2] No such file or directory: '/content/test_users_last_sold.npz'",
     "output_type": "error",
     "traceback": [
      "\u001B[1;31m---------------------------------------------------------------------------\u001B[0m",
      "\u001B[1;31mFileNotFoundError\u001B[0m                         Traceback (most recent call last)",
      "\u001B[1;32m<ipython-input-244-0c88df8e2871>\u001B[0m in \u001B[0;36m<module>\u001B[1;34m\u001B[0m\n\u001B[0;32m      1\u001B[0m \u001B[1;32mimport\u001B[0m \u001B[0mpickle\u001B[0m\u001B[1;33m\u001B[0m\u001B[1;33m\u001B[0m\u001B[0m\n\u001B[0;32m      2\u001B[0m \u001B[1;31m# Test set\u001B[0m\u001B[1;33m\u001B[0m\u001B[1;33m\u001B[0m\u001B[1;33m\u001B[0m\u001B[0m\n\u001B[1;32m----> 3\u001B[1;33m \u001B[1;32mwith\u001B[0m \u001B[0mnp\u001B[0m\u001B[1;33m.\u001B[0m\u001B[0mload\u001B[0m\u001B[1;33m(\u001B[0m\u001B[1;34m'/content/test_users_last_sold.npz'\u001B[0m\u001B[1;33m,\u001B[0m \u001B[0mallow_pickle\u001B[0m\u001B[1;33m=\u001B[0m\u001B[1;32mTrue\u001B[0m\u001B[1;33m)\u001B[0m \u001B[1;32mas\u001B[0m \u001B[0mdata\u001B[0m\u001B[1;33m:\u001B[0m\u001B[1;33m\u001B[0m\u001B[1;33m\u001B[0m\u001B[0m\n\u001B[0m\u001B[0;32m      4\u001B[0m     \u001B[0mtstInt1\u001B[0m \u001B[1;33m=\u001B[0m \u001B[0mdata\u001B[0m\u001B[1;33m[\u001B[0m\u001B[1;34m'test_users_last_sold'\u001B[0m\u001B[1;33m]\u001B[0m\u001B[1;33m\u001B[0m\u001B[1;33m\u001B[0m\u001B[0m\n\u001B[0;32m      5\u001B[0m \u001B[1;33m\u001B[0m\u001B[0m\n",
      "\u001B[1;32m~\\PycharmProjects\\cs61b\\.venv\\lib\\site-packages\\numpy\\lib\\npyio.py\u001B[0m in \u001B[0;36mload\u001B[1;34m(file, mmap_mode, allow_pickle, fix_imports, encoding)\u001B[0m\n\u001B[0;32m    414\u001B[0m             \u001B[0mown_fid\u001B[0m \u001B[1;33m=\u001B[0m \u001B[1;32mFalse\u001B[0m\u001B[1;33m\u001B[0m\u001B[1;33m\u001B[0m\u001B[0m\n\u001B[0;32m    415\u001B[0m         \u001B[1;32melse\u001B[0m\u001B[1;33m:\u001B[0m\u001B[1;33m\u001B[0m\u001B[1;33m\u001B[0m\u001B[0m\n\u001B[1;32m--> 416\u001B[1;33m             \u001B[0mfid\u001B[0m \u001B[1;33m=\u001B[0m \u001B[0mstack\u001B[0m\u001B[1;33m.\u001B[0m\u001B[0menter_context\u001B[0m\u001B[1;33m(\u001B[0m\u001B[0mopen\u001B[0m\u001B[1;33m(\u001B[0m\u001B[0mos_fspath\u001B[0m\u001B[1;33m(\u001B[0m\u001B[0mfile\u001B[0m\u001B[1;33m)\u001B[0m\u001B[1;33m,\u001B[0m \u001B[1;34m\"rb\"\u001B[0m\u001B[1;33m)\u001B[0m\u001B[1;33m)\u001B[0m\u001B[1;33m\u001B[0m\u001B[1;33m\u001B[0m\u001B[0m\n\u001B[0m\u001B[0;32m    417\u001B[0m             \u001B[0mown_fid\u001B[0m \u001B[1;33m=\u001B[0m \u001B[1;32mTrue\u001B[0m\u001B[1;33m\u001B[0m\u001B[1;33m\u001B[0m\u001B[0m\n\u001B[0;32m    418\u001B[0m \u001B[1;33m\u001B[0m\u001B[0m\n",
      "\u001B[1;31mFileNotFoundError\u001B[0m: [Errno 2] No such file or directory: '/content/test_users_last_sold.npz'"
     ]
    }
   ],
   "execution_count": 244
  },
  {
   "cell_type": "code",
   "source": [
    "len(user_ids)"
   ],
   "metadata": {
    "id": "ixx0kz6g0hls",
    "ExecuteTime": {
     "end_time": "2024-08-11T14:01:54.241718Z",
     "start_time": "2024-08-11T14:01:54.231566Z"
    }
   },
   "outputs": [
    {
     "ename": "NameError",
     "evalue": "name 'user_ids' is not defined",
     "output_type": "error",
     "traceback": [
      "\u001B[1;31m---------------------------------------------------------------------------\u001B[0m",
      "\u001B[1;31mNameError\u001B[0m                                 Traceback (most recent call last)",
      "\u001B[1;32m<ipython-input-245-8731190e4cc1>\u001B[0m in \u001B[0;36m<module>\u001B[1;34m\u001B[0m\n\u001B[1;32m----> 1\u001B[1;33m \u001B[0mlen\u001B[0m\u001B[1;33m(\u001B[0m\u001B[0muser_ids\u001B[0m\u001B[1;33m)\u001B[0m\u001B[1;33m\u001B[0m\u001B[1;33m\u001B[0m\u001B[0m\n\u001B[0m",
      "\u001B[1;31mNameError\u001B[0m: name 'user_ids' is not defined"
     ]
    }
   ],
   "execution_count": 245
  },
  {
   "cell_type": "code",
   "source": [
    "import pickle\n",
    "path =  '/content/tst_int'\n",
    "with open(path, 'rb') as fs:\n",
    "  tstInt = np.array(pickle.load(fs))\n"
   ],
   "metadata": {
    "id": "NkJZLLAy1lhs",
    "ExecuteTime": {
     "end_time": "2024-08-11T14:01:54.268274Z",
     "start_time": "2024-08-11T14:01:54.257184Z"
    }
   },
   "outputs": [
    {
     "ename": "FileNotFoundError",
     "evalue": "[Errno 2] No such file or directory: '/content/tst_int'",
     "output_type": "error",
     "traceback": [
      "\u001B[1;31m---------------------------------------------------------------------------\u001B[0m",
      "\u001B[1;31mFileNotFoundError\u001B[0m                         Traceback (most recent call last)",
      "\u001B[1;32m<ipython-input-246-2d5b71665dc1>\u001B[0m in \u001B[0;36m<module>\u001B[1;34m\u001B[0m\n\u001B[0;32m      1\u001B[0m \u001B[1;32mimport\u001B[0m \u001B[0mpickle\u001B[0m\u001B[1;33m\u001B[0m\u001B[1;33m\u001B[0m\u001B[0m\n\u001B[0;32m      2\u001B[0m \u001B[0mpath\u001B[0m \u001B[1;33m=\u001B[0m  \u001B[1;34m'/content/tst_int'\u001B[0m\u001B[1;33m\u001B[0m\u001B[1;33m\u001B[0m\u001B[0m\n\u001B[1;32m----> 3\u001B[1;33m \u001B[1;32mwith\u001B[0m \u001B[0mopen\u001B[0m\u001B[1;33m(\u001B[0m\u001B[0mpath\u001B[0m\u001B[1;33m,\u001B[0m \u001B[1;34m'rb'\u001B[0m\u001B[1;33m)\u001B[0m \u001B[1;32mas\u001B[0m \u001B[0mfs\u001B[0m\u001B[1;33m:\u001B[0m\u001B[1;33m\u001B[0m\u001B[1;33m\u001B[0m\u001B[0m\n\u001B[0m\u001B[0;32m      4\u001B[0m   \u001B[0mtstInt\u001B[0m \u001B[1;33m=\u001B[0m \u001B[0mnp\u001B[0m\u001B[1;33m.\u001B[0m\u001B[0marray\u001B[0m\u001B[1;33m(\u001B[0m\u001B[0mpickle\u001B[0m\u001B[1;33m.\u001B[0m\u001B[0mload\u001B[0m\u001B[1;33m(\u001B[0m\u001B[0mfs\u001B[0m\u001B[1;33m)\u001B[0m\u001B[1;33m)\u001B[0m\u001B[1;33m\u001B[0m\u001B[1;33m\u001B[0m\u001B[0m\n\u001B[0;32m      5\u001B[0m \u001B[1;33m\u001B[0m\u001B[0m\n",
      "\u001B[1;31mFileNotFoundError\u001B[0m: [Errno 2] No such file or directory: '/content/tst_int'"
     ]
    }
   ],
   "execution_count": 246
  },
  {
   "cell_type": "code",
   "source": [
    "len(tstInt)"
   ],
   "metadata": {
    "id": "1C76F9B91vp9",
    "ExecuteTime": {
     "end_time": "2024-08-11T14:01:54.311744Z",
     "start_time": "2024-08-11T14:01:54.297606Z"
    }
   },
   "outputs": [
    {
     "ename": "NameError",
     "evalue": "name 'tstInt' is not defined",
     "output_type": "error",
     "traceback": [
      "\u001B[1;31m---------------------------------------------------------------------------\u001B[0m",
      "\u001B[1;31mNameError\u001B[0m                                 Traceback (most recent call last)",
      "\u001B[1;32m<ipython-input-247-72fdc733a916>\u001B[0m in \u001B[0;36m<module>\u001B[1;34m\u001B[0m\n\u001B[1;32m----> 1\u001B[1;33m \u001B[0mlen\u001B[0m\u001B[1;33m(\u001B[0m\u001B[0mtstInt\u001B[0m\u001B[1;33m)\u001B[0m\u001B[1;33m\u001B[0m\u001B[1;33m\u001B[0m\u001B[0m\n\u001B[0m",
      "\u001B[1;31mNameError\u001B[0m: name 'tstInt' is not defined"
     ]
    }
   ],
   "execution_count": 247
  },
  {
   "cell_type": "code",
   "source": [
    "\ttstStat = (tstInt!=None)"
   ],
   "metadata": {
    "id": "CigLPSZ71qFz",
    "ExecuteTime": {
     "end_time": "2024-08-11T14:01:54.340910Z",
     "start_time": "2024-08-11T14:01:54.326323Z"
    }
   },
   "outputs": [
    {
     "ename": "NameError",
     "evalue": "name 'tstInt' is not defined",
     "output_type": "error",
     "traceback": [
      "\u001B[1;31m---------------------------------------------------------------------------\u001B[0m",
      "\u001B[1;31mNameError\u001B[0m                                 Traceback (most recent call last)",
      "\u001B[1;32m<ipython-input-248-5c03b1f73b46>\u001B[0m in \u001B[0;36m<module>\u001B[1;34m\u001B[0m\n\u001B[1;32m----> 1\u001B[1;33m \u001B[0mtstStat\u001B[0m \u001B[1;33m=\u001B[0m \u001B[1;33m(\u001B[0m\u001B[0mtstInt\u001B[0m\u001B[1;33m!=\u001B[0m\u001B[1;32mNone\u001B[0m\u001B[1;33m)\u001B[0m\u001B[1;33m\u001B[0m\u001B[1;33m\u001B[0m\u001B[0m\n\u001B[0m",
      "\u001B[1;31mNameError\u001B[0m: name 'tstInt' is not defined"
     ]
    }
   ],
   "execution_count": 248
  },
  {
   "cell_type": "code",
   "source": [
    "# Test set\n",
    "with np.load('/content/test_users_last_sold.npz', allow_pickle=True) as data:\n",
    "    tstInt1 = data['test_users_last_sold']\n",
    "\n",
    "# Extract unique user IDs and sort them\n",
    "user_ids = sorted(set(pair[0] for pair in tstInt1))\n",
    "\n",
    "# Initialize list with None for each possible user ID\n",
    "max_user_id = 6416\n",
    "user_purchases = [None] * max_user_id\n",
    "\n",
    "# Fill in user IDs where applicable\n",
    "for user_id in user_ids:\n",
    "    # Assuming user_id starts from 1, subtract 1 for zero-based indexing\n",
    "    user_purchases[user_id - 1] = user_id\n",
    "\n",
    "tstInt = np.array(user_purchases)\n"
   ],
   "metadata": {
    "id": "QsiZUEJn2Wk6",
    "ExecuteTime": {
     "end_time": "2024-08-11T14:01:54.381965Z",
     "start_time": "2024-08-11T14:01:54.364701Z"
    }
   },
   "outputs": [
    {
     "ename": "FileNotFoundError",
     "evalue": "[Errno 2] No such file or directory: '/content/test_users_last_sold.npz'",
     "output_type": "error",
     "traceback": [
      "\u001B[1;31m---------------------------------------------------------------------------\u001B[0m",
      "\u001B[1;31mFileNotFoundError\u001B[0m                         Traceback (most recent call last)",
      "\u001B[1;32m<ipython-input-249-37719c693c62>\u001B[0m in \u001B[0;36m<module>\u001B[1;34m\u001B[0m\n\u001B[0;32m      1\u001B[0m \u001B[1;31m# Test set\u001B[0m\u001B[1;33m\u001B[0m\u001B[1;33m\u001B[0m\u001B[1;33m\u001B[0m\u001B[0m\n\u001B[1;32m----> 2\u001B[1;33m \u001B[1;32mwith\u001B[0m \u001B[0mnp\u001B[0m\u001B[1;33m.\u001B[0m\u001B[0mload\u001B[0m\u001B[1;33m(\u001B[0m\u001B[1;34m'/content/test_users_last_sold.npz'\u001B[0m\u001B[1;33m,\u001B[0m \u001B[0mallow_pickle\u001B[0m\u001B[1;33m=\u001B[0m\u001B[1;32mTrue\u001B[0m\u001B[1;33m)\u001B[0m \u001B[1;32mas\u001B[0m \u001B[0mdata\u001B[0m\u001B[1;33m:\u001B[0m\u001B[1;33m\u001B[0m\u001B[1;33m\u001B[0m\u001B[0m\n\u001B[0m\u001B[0;32m      3\u001B[0m     \u001B[0mtstInt1\u001B[0m \u001B[1;33m=\u001B[0m \u001B[0mdata\u001B[0m\u001B[1;33m[\u001B[0m\u001B[1;34m'test_users_last_sold'\u001B[0m\u001B[1;33m]\u001B[0m\u001B[1;33m\u001B[0m\u001B[1;33m\u001B[0m\u001B[0m\n\u001B[0;32m      4\u001B[0m \u001B[1;33m\u001B[0m\u001B[0m\n\u001B[0;32m      5\u001B[0m \u001B[1;31m# Extract unique user IDs and sort them\u001B[0m\u001B[1;33m\u001B[0m\u001B[1;33m\u001B[0m\u001B[1;33m\u001B[0m\u001B[0m\n",
      "\u001B[1;32m~\\PycharmProjects\\cs61b\\.venv\\lib\\site-packages\\numpy\\lib\\npyio.py\u001B[0m in \u001B[0;36mload\u001B[1;34m(file, mmap_mode, allow_pickle, fix_imports, encoding)\u001B[0m\n\u001B[0;32m    414\u001B[0m             \u001B[0mown_fid\u001B[0m \u001B[1;33m=\u001B[0m \u001B[1;32mFalse\u001B[0m\u001B[1;33m\u001B[0m\u001B[1;33m\u001B[0m\u001B[0m\n\u001B[0;32m    415\u001B[0m         \u001B[1;32melse\u001B[0m\u001B[1;33m:\u001B[0m\u001B[1;33m\u001B[0m\u001B[1;33m\u001B[0m\u001B[0m\n\u001B[1;32m--> 416\u001B[1;33m             \u001B[0mfid\u001B[0m \u001B[1;33m=\u001B[0m \u001B[0mstack\u001B[0m\u001B[1;33m.\u001B[0m\u001B[0menter_context\u001B[0m\u001B[1;33m(\u001B[0m\u001B[0mopen\u001B[0m\u001B[1;33m(\u001B[0m\u001B[0mos_fspath\u001B[0m\u001B[1;33m(\u001B[0m\u001B[0mfile\u001B[0m\u001B[1;33m)\u001B[0m\u001B[1;33m,\u001B[0m \u001B[1;34m\"rb\"\u001B[0m\u001B[1;33m)\u001B[0m\u001B[1;33m)\u001B[0m\u001B[1;33m\u001B[0m\u001B[1;33m\u001B[0m\u001B[0m\n\u001B[0m\u001B[0;32m    417\u001B[0m             \u001B[0mown_fid\u001B[0m \u001B[1;33m=\u001B[0m \u001B[1;32mTrue\u001B[0m\u001B[1;33m\u001B[0m\u001B[1;33m\u001B[0m\u001B[0m\n\u001B[0;32m    418\u001B[0m \u001B[1;33m\u001B[0m\u001B[0m\n",
      "\u001B[1;31mFileNotFoundError\u001B[0m: [Errno 2] No such file or directory: '/content/test_users_last_sold.npz'"
     ]
    }
   ],
   "execution_count": 249
  },
  {
   "cell_type": "code",
   "source": [
    "len(tstInt)"
   ],
   "metadata": {
    "id": "oaISDNGd2aLm",
    "ExecuteTime": {
     "end_time": "2024-08-11T14:01:54.410870Z",
     "start_time": "2024-08-11T14:01:54.398206Z"
    }
   },
   "outputs": [
    {
     "ename": "NameError",
     "evalue": "name 'tstInt' is not defined",
     "output_type": "error",
     "traceback": [
      "\u001B[1;31m---------------------------------------------------------------------------\u001B[0m",
      "\u001B[1;31mNameError\u001B[0m                                 Traceback (most recent call last)",
      "\u001B[1;32m<ipython-input-250-72fdc733a916>\u001B[0m in \u001B[0;36m<module>\u001B[1;34m\u001B[0m\n\u001B[1;32m----> 1\u001B[1;33m \u001B[0mlen\u001B[0m\u001B[1;33m(\u001B[0m\u001B[0mtstInt\u001B[0m\u001B[1;33m)\u001B[0m\u001B[1;33m\u001B[0m\u001B[1;33m\u001B[0m\u001B[0m\n\u001B[0m",
      "\u001B[1;31mNameError\u001B[0m: name 'tstInt' is not defined"
     ]
    }
   ],
   "execution_count": 250
  },
  {
   "cell_type": "code",
   "source": [
    "import pandas as pd\n",
    "import torch\n",
    "from torch.utils.data import DataLoader, TensorDataset\n",
    "\n",
    "def prepare_data_loader_from_excel(file_path='/content/dataset.xlsx', batch_size=32, shuffle=True):\n",
    "    # Load the dataset from the Excel file\n",
    "    df = pd.read_excel(file_path)\n",
    "\n",
    "    # Convert the user IDs and item IDs into tensors\n",
    "    uids = torch.tensor(df['user_id'].values, dtype=torch.long)\n",
    "    iids = torch.tensor(df['idCryptoPunk'].values, dtype=torch.long)  # Adjusted column name to 'item_id'\n",
    "\n",
    "    return uids, iids"
   ],
   "metadata": {
    "id": "veJp1E_i5xlL",
    "ExecuteTime": {
     "end_time": "2024-08-11T14:01:54.454879Z",
     "start_time": "2024-08-11T14:01:54.442568Z"
    }
   },
   "outputs": [
    {
     "ename": "ModuleNotFoundError",
     "evalue": "No module named 'torch'",
     "output_type": "error",
     "traceback": [
      "\u001B[1;31m---------------------------------------------------------------------------\u001B[0m",
      "\u001B[1;31mModuleNotFoundError\u001B[0m                       Traceback (most recent call last)",
      "\u001B[1;32m<ipython-input-251-287a2d204771>\u001B[0m in \u001B[0;36m<module>\u001B[1;34m\u001B[0m\n\u001B[0;32m      1\u001B[0m \u001B[1;32mimport\u001B[0m \u001B[0mpandas\u001B[0m \u001B[1;32mas\u001B[0m \u001B[0mpd\u001B[0m\u001B[1;33m\u001B[0m\u001B[1;33m\u001B[0m\u001B[0m\n\u001B[1;32m----> 2\u001B[1;33m \u001B[1;32mimport\u001B[0m \u001B[0mtorch\u001B[0m\u001B[1;33m\u001B[0m\u001B[1;33m\u001B[0m\u001B[0m\n\u001B[0m\u001B[0;32m      3\u001B[0m \u001B[1;32mfrom\u001B[0m \u001B[0mtorch\u001B[0m\u001B[1;33m.\u001B[0m\u001B[0mutils\u001B[0m\u001B[1;33m.\u001B[0m\u001B[0mdata\u001B[0m \u001B[1;32mimport\u001B[0m \u001B[0mDataLoader\u001B[0m\u001B[1;33m,\u001B[0m \u001B[0mTensorDataset\u001B[0m\u001B[1;33m\u001B[0m\u001B[1;33m\u001B[0m\u001B[0m\n\u001B[0;32m      4\u001B[0m \u001B[1;33m\u001B[0m\u001B[0m\n\u001B[0;32m      5\u001B[0m \u001B[1;32mdef\u001B[0m \u001B[0mprepare_data_loader_from_excel\u001B[0m\u001B[1;33m(\u001B[0m\u001B[0mfile_path\u001B[0m\u001B[1;33m=\u001B[0m\u001B[1;34m'/content/dataset.xlsx'\u001B[0m\u001B[1;33m,\u001B[0m \u001B[0mbatch_size\u001B[0m\u001B[1;33m=\u001B[0m\u001B[1;36m32\u001B[0m\u001B[1;33m,\u001B[0m \u001B[0mshuffle\u001B[0m\u001B[1;33m=\u001B[0m\u001B[1;32mTrue\u001B[0m\u001B[1;33m)\u001B[0m\u001B[1;33m:\u001B[0m\u001B[1;33m\u001B[0m\u001B[1;33m\u001B[0m\u001B[0m\n",
      "\u001B[1;31mModuleNotFoundError\u001B[0m: No module named 'torch'"
     ]
    }
   ],
   "execution_count": 251
  },
  {
   "cell_type": "code",
   "source": [
    "prepare_data_loader_from_excel()[1]"
   ],
   "metadata": {
    "id": "IxCmapEp59Oq",
    "ExecuteTime": {
     "end_time": "2024-08-11T14:01:54.484962Z",
     "start_time": "2024-08-11T14:01:54.472922Z"
    }
   },
   "outputs": [
    {
     "ename": "NameError",
     "evalue": "name 'prepare_data_loader_from_excel' is not defined",
     "output_type": "error",
     "traceback": [
      "\u001B[1;31m---------------------------------------------------------------------------\u001B[0m",
      "\u001B[1;31mNameError\u001B[0m                                 Traceback (most recent call last)",
      "\u001B[1;32m<ipython-input-252-e3392c2aaadc>\u001B[0m in \u001B[0;36m<module>\u001B[1;34m\u001B[0m\n\u001B[1;32m----> 1\u001B[1;33m \u001B[0mprepare_data_loader_from_excel\u001B[0m\u001B[1;33m(\u001B[0m\u001B[1;33m)\u001B[0m\u001B[1;33m[\u001B[0m\u001B[1;36m1\u001B[0m\u001B[1;33m]\u001B[0m\u001B[1;33m\u001B[0m\u001B[1;33m\u001B[0m\u001B[0m\n\u001B[0m",
      "\u001B[1;31mNameError\u001B[0m: name 'prepare_data_loader_from_excel' is not defined"
     ]
    }
   ],
   "execution_count": 252
  }
 ]
}
